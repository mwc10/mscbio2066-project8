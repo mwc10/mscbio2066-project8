{
 "cells": [
  {
   "cell_type": "code",
   "execution_count": 1,
   "id": "d559137a",
   "metadata": {},
   "outputs": [],
   "source": [
    "import polars as pl\n",
    "import numpy as np"
   ]
  },
  {
   "cell_type": "code",
   "execution_count": 2,
   "id": "289a6384",
   "metadata": {},
   "outputs": [],
   "source": [
    "# Common name for calculated -log Molar activity\n",
    "ACTIVITY = 'Activity [-logP]'"
   ]
  },
  {
   "cell_type": "markdown",
   "id": "2f12ae48",
   "metadata": {},
   "source": [
    "# ChemBl Data"
   ]
  },
  {
   "cell_type": "code",
   "execution_count": 3,
   "id": "46a96d49",
   "metadata": {},
   "outputs": [],
   "source": [
    "# filter out any with null (standard units or  standard values) AND null pchembl\n",
    "# calc normalized value (-log(Molar)), which should be pchem value if present\n",
    "# for now, just get chembl info that is in nM \n",
    "# (only 600 not, and some probably are fixable...)\n",
    "chemblData = (\n",
    "    pl.scan_csv(\n",
    "        'chembl_export.csv', \n",
    "        dtypes={'standard_value': pl.Float64}\n",
    "    ).filter(\n",
    "        (pl.col('standard_value').is_not_null() &\n",
    "         pl.col('standard_units').is_not_null() &\n",
    "         pl.col('standard_units').eq('nM')\n",
    "        ) | pl.col('pchembl_value').is_not_null()\n",
    "    ).with_columns([\n",
    "        pl.when(pl.col('pchembl_value').is_null())\n",
    "            .then(-((pl.col('standard_value') / 10e9).log10()))\n",
    "            .otherwise(pl.col('pchembl_value'))\n",
    "            .alias(ACTIVITY)\n",
    "    ])\n",
    ")"
   ]
  },
  {
   "cell_type": "code",
   "execution_count": 4,
   "id": "1cfb63b9",
   "metadata": {},
   "outputs": [],
   "source": [
    "# read in precreated list of target chembl ids to uniprot ids\n",
    "chemUniIds = (\n",
    "    pl.scan_csv('uniprot-from-chembltarget.tsv', separator='\\t')\n",
    "    .select([\n",
    "        'From', \n",
    "        pl.col('Entry').alias('uniprot'), \n",
    "        pl.col('Organism').alias('organism')\n",
    "    ])\n",
    ")\n",
    "\n",
    "qChemblComplete = (\n",
    "    chemblData\n",
    "    .join(other=chemUniIds, left_on='target_chembl_id', right_on='From')\n",
    "    .select([\n",
    "        'compound_chembl_id', \n",
    "        'canonical_smiles', \n",
    "        'standard_inchi', \n",
    "        'uniprot',\n",
    "        'organism',\n",
    "        pl.col('standard_type').str.to_uppercase(), \n",
    "        ACTIVITY,\n",
    "    ])\n",
    ")"
   ]
  },
  {
   "cell_type": "markdown",
   "id": "e2d318de",
   "metadata": {},
   "source": [
    "# DTC Data"
   ]
  },
  {
   "cell_type": "code",
   "execution_count": 5,
   "id": "1d556606",
   "metadata": {},
   "outputs": [],
   "source": [
    "# Deal with drug target commons data\n",
    "qDtc = (\n",
    "    pl.scan_csv('DTC_data.csv')\n",
    "    .filter(pl.col('standard_relation').eq('='))\n",
    "    .filter(pl.col('standard_type').is_in(['KD', 'KI', 'EC50', 'IC50']))\n",
    "    .filter(pl.col('target_pref_name').str.contains('KINASE|kinase'))\n",
    "    .filter(pl.col('compound_id').is_not_null())\n",
    "    .filter(pl.col('target_id').ne(''))\n",
    "    .filter(pl.col('standard_units').is_in(['NM', 'NMOL/L']))\n",
    "    .with_columns([\n",
    "        (-(pl.col('standard_value')/1e9).log10()).alias(ACTIVITY)\n",
    "    ])\n",
    ")"
   ]
  },
  {
   "cell_type": "code",
   "execution_count": 6,
   "id": "51afd021",
   "metadata": {},
   "outputs": [],
   "source": [
    "# Species Targets\n",
    "# 'Rattus norvegicus (Rat)'\n",
    "# 'Mus musculus (Mouse)'\n",
    "DTC_SPECIES = ['Homo sapiens (Human)']\n",
    "\n",
    "dtcUniprot = (\n",
    "    pl.scan_csv('uniprot-DTC-target-info.tsv', separator='\\t')\n",
    "    .filter(pl.col('Organism').is_in(DTC_SPECIES))\n",
    "    .select([\n",
    "        pl.col('Entry').alias('uniprot'),\n",
    "        pl.col('Organism').alias('organism'),\n",
    "    ])\n",
    ")"
   ]
  },
  {
   "cell_type": "code",
   "execution_count": 7,
   "id": "8923620a",
   "metadata": {},
   "outputs": [],
   "source": [
    "qDtcSmiles = (\n",
    "    pl.scan_csv('dtc-smiles.csv')\n",
    "    .select(pl.exclude('pref_name'))\n",
    ")"
   ]
  },
  {
   "cell_type": "code",
   "execution_count": 8,
   "id": "7ebd42d9",
   "metadata": {},
   "outputs": [],
   "source": [
    "qDtcComplete = (\n",
    "    qDtc\n",
    "    .join(other=dtcUniprot, left_on='target_id', right_on='uniprot')\n",
    "    .join(other=qDtcSmiles, left_on='compound_id', right_on='chembl_id')\n",
    "    .select([\n",
    "        pl.col('compound_id').alias('compound_chembl_id'),\n",
    "        'canonical_smiles',\n",
    "        'standard_inchi',\n",
    "        pl.col('target_id').alias('uniprot'),\n",
    "        'organism',\n",
    "        'standard_type',\n",
    "        ACTIVITY\n",
    "    ])\n",
    ")"
   ]
  },
  {
   "cell_type": "code",
   "execution_count": 9,
   "id": "fc22cca7",
   "metadata": {
    "scrolled": false
   },
   "outputs": [],
   "source": [
    "qFull = pl.concat((qChemblComplete, qDtcComplete))\n",
    "qMedian = (\n",
    "    qFull\n",
    "    .groupby(['compound_chembl_id', 'canonical_smiles', 'standard_inchi', 'uniprot', 'standard_type'])\n",
    "    .agg(pl.col(ACTIVITY).median().alias('Median '+ACTIVITY))\n",
    ")"
   ]
  },
  {
   "cell_type": "code",
   "execution_count": 11,
   "id": "ec18bf5a",
   "metadata": {},
   "outputs": [
    {
     "data": {
      "text/html": [
       "<div><style>\n",
       ".dataframe > thead > tr > th,\n",
       ".dataframe > tbody > tr > td {\n",
       "  text-align: right;\n",
       "}\n",
       "</style>\n",
       "<small>shape: (5, 6)</small><table border=\"1\" class=\"dataframe\"><thead><tr><th>compound_chembl_id</th><th>canonical_smiles</th><th>standard_inchi</th><th>uniprot</th><th>standard_type</th><th>Median Activity [-logP]</th></tr><tr><td>str</td><td>str</td><td>str</td><td>str</td><td>str</td><td>f64</td></tr></thead><tbody><tr><td>&quot;CHEMBL1090479&quot;</td><td>&quot;CCn1cc(-c2ccnc…</td><td>&quot;InChI=1S/C30H3…</td><td>&quot;Q9NQS7&quot;</td><td>&quot;IC50&quot;</td><td>8.495</td></tr><tr><td>&quot;CHEMBL1945565&quot;</td><td>&quot;COCCOc1ccc2cc1…</td><td>&quot;InChI=1S/C26H3…</td><td>&quot;P36888&quot;</td><td>&quot;IC50&quot;</td><td>7.60103</td></tr><tr><td>&quot;CHEMBL3263642&quot;</td><td>&quot;Cc1c(NC(=O)c2c…</td><td>&quot;InChI=1S/C42H4…</td><td>&quot;Q06187&quot;</td><td>&quot;IC50&quot;</td><td>6.851936</td></tr><tr><td>&quot;CHEMBL231209&quot;</td><td>&quot;Nc1nccc2scc(-c…</td><td>&quot;InChI=1S/C20H1…</td><td>&quot;Q16620&quot;</td><td>&quot;KI&quot;</td><td>5.4</td></tr><tr><td>&quot;CHEMBL1204014&quot;</td><td>&quot;CN1CCN(C(=O)c2…</td><td>&quot;InChI=1S/C30H3…</td><td>&quot;P48736&quot;</td><td>&quot;IC50&quot;</td><td>8.045757</td></tr></tbody></table></div>"
      ],
      "text/plain": [
       "shape: (5, 6)\n",
       "┌──────────────────┬─────────────────┬─────────────────┬─────────┬───────────────┬─────────────────┐\n",
       "│ compound_chembl_ ┆ canonical_smile ┆ standard_inchi  ┆ uniprot ┆ standard_type ┆ Median Activity │\n",
       "│ id               ┆ s               ┆ ---             ┆ ---     ┆ ---           ┆ [-logP]         │\n",
       "│ ---              ┆ ---             ┆ str             ┆ str     ┆ str           ┆ ---             │\n",
       "│ str              ┆ str             ┆                 ┆         ┆               ┆ f64             │\n",
       "╞══════════════════╪═════════════════╪═════════════════╪═════════╪═══════════════╪═════════════════╡\n",
       "│ CHEMBL1090479    ┆ CCn1cc(-c2ccnc3 ┆ InChI=1S/C30H33 ┆ Q9NQS7  ┆ IC50          ┆ 8.495           │\n",
       "│                  ┆ [nH]c(-c4cccc(C ┆ N7O/c1-6-37-19- ┆         ┆               ┆                 │\n",
       "│                  ┆ N(…             ┆ 26…             ┆         ┆               ┆                 │\n",
       "│ CHEMBL1945565    ┆ COCCOc1ccc2cc1C ┆ InChI=1S/C26H30 ┆ P36888  ┆ IC50          ┆ 7.60103         │\n",
       "│                  ┆ N(C)C/C=C/CCOc1 ┆ N4O3/c1-30-13-4 ┆         ┆               ┆                 │\n",
       "│                  ┆ cc…             ┆ -3…             ┆         ┆               ┆                 │\n",
       "│ CHEMBL3263642    ┆ Cc1c(NC(=O)c2cc ┆ InChI=1S/C42H43 ┆ Q06187  ┆ IC50          ┆ 6.851936        │\n",
       "│                  ┆ c(C(C)(C)C)cc2) ┆ N7O3/c1-28-34(1 ┆         ┆               ┆                 │\n",
       "│                  ┆ cc…             ┆ 1-…             ┆         ┆               ┆                 │\n",
       "│ CHEMBL231209     ┆ Nc1nccc2scc(-c3 ┆ InChI=1S/C20H15 ┆ Q16620  ┆ KI            ┆ 5.4             │\n",
       "│                  ┆ ccc(NC(=O)Nc4cc ┆ FN4OS/c21-13-2- ┆         ┆               ┆                 │\n",
       "│                  ┆ cc…             ┆ 1-…             ┆         ┆               ┆                 │\n",
       "│ CHEMBL1204014    ┆ CN1CCN(C(=O)c2c ┆ InChI=1S/C30H37 ┆ P48736  ┆ IC50          ┆ 8.045757        │\n",
       "│                  ┆ cc(NC(=O)Nc3ccc ┆ N9O4.ClH/c1-36- ┆         ┆               ┆                 │\n",
       "│                  ┆ (-…             ┆ 10…             ┆         ┆               ┆                 │\n",
       "└──────────────────┴─────────────────┴─────────────────┴─────────┴───────────────┴─────────────────┘"
      ]
     },
     "execution_count": 11,
     "metadata": {},
     "output_type": "execute_result"
    }
   ],
   "source": [
    "dfMedian = qMedian.collect()\n",
    "dfMedian.head(5)"
   ]
  },
  {
   "cell_type": "code",
   "execution_count": 12,
   "id": "6ebf16d4",
   "metadata": {},
   "outputs": [],
   "source": [
    "DF_OUTPUT = 'full-median.parquet'\n",
    "dfMedian.write_parquet(DF_OUTPUT)"
   ]
  },
  {
   "cell_type": "markdown",
   "id": "9bf6c31a",
   "metadata": {},
   "source": [
    "## Pivot Table"
   ]
  },
  {
   "cell_type": "code",
   "execution_count": null,
   "id": "75aac263",
   "metadata": {},
   "outputs": [],
   "source": [
    "dfPivoted = qFull.collect().pivot(\n",
    "    values=[ACTIVITY], \n",
    "    index=['compound_chembl_id', 'canonical_smiles', 'standard_inchi', 'uniprot'], \n",
    "    columns=['standard_type'], \n",
    "    aggregate_function='median'\n",
    ")"
   ]
  },
  {
   "cell_type": "markdown",
   "id": "561d08ad",
   "metadata": {},
   "source": [
    "# Uniprot Sequences\n",
    "Map from Uniprot ID to Full Sequence as TSV with no header"
   ]
  },
  {
   "cell_type": "code",
   "execution_count": null,
   "id": "07ff422e",
   "metadata": {},
   "outputs": [],
   "source": [
    "OUTPUT = 'map-uniprot-seq.tsv'\n",
    "dfSeq = (\n",
    "    pl.concat((\n",
    "        pl.scan_csv('uniprot-from-chembltarget.tsv', separator='\\t'),\n",
    "        pl.scan_csv('uniprot-DTC-target-info.tsv', separator='\\t')\n",
    "    )).select(['Entry', 'Sequence'])\n",
    ")\n",
    "         \n",
    "\n",
    "dfSeq.collect().write_csv(OUTPUT, has_header=False, separator='\\t')"
   ]
  },
  {
   "cell_type": "markdown",
   "id": "708ed0fc",
   "metadata": {},
   "source": [
    "# Fixed Queries\n",
    "These create files for querying in external tools"
   ]
  },
  {
   "cell_type": "markdown",
   "id": "dccc2866",
   "metadata": {},
   "source": [
    "## Target Chembl IDs for Uniprot"
   ]
  },
  {
   "cell_type": "code",
   "execution_count": null,
   "id": "5991bc4b",
   "metadata": {},
   "outputs": [],
   "source": [
    "# Get target chembl ids for conversion to uniprot\n",
    "target_ids = pl.scan_csv('chembl_export.csv').select('target_chembl_id').unique().collect().to_series()\n",
    "\n",
    "OUTPUT = 'chembl_target_ids.txt'\n",
    "with open(OUTPUT, 'wt') as f:\n",
    "    for target in target_ids: \n",
    "        print(target, file=f)\n",
    "print(f'output {len(target_ids)} targets to:', OUTPUT)"
   ]
  },
  {
   "cell_type": "markdown",
   "id": "716e5d03",
   "metadata": {},
   "source": [
    "## DTC Uniprot IDs"
   ]
  },
  {
   "cell_type": "code",
   "execution_count": null,
   "id": "43849f64",
   "metadata": {},
   "outputs": [],
   "source": [
    "# DTC data dump does not include Kinase species or sequence\n",
    "# So, create a list of ids for querying uniprot\n",
    "OUTPUT = 'DTC-targets.txt'\n",
    "targetsDtc = qDtc.select('target_id').unique().collect().to_series()\n",
    "with open(OUTPUT, 'wt') as f:\n",
    "    for target in targetsDtc:\n",
    "        print(target, file=f)\n",
    "print(f'wrote {len(targetsDtc)} targets to {OUTPUT}')"
   ]
  },
  {
   "cell_type": "code",
   "execution_count": null,
   "id": "4f369d08",
   "metadata": {},
   "outputs": [],
   "source": [
    "# The DTC datadump did not include SMILES data, so create a query for\n",
    "# an external SQL DB to run\n",
    "\n",
    "PREAMBLE = '''SELECT md.chembl_id,\n",
    "md.pref_name,\n",
    "cs.canonical_smiles,\n",
    "cs.standard_inchi\n",
    "FROM molecule_dictionary md\n",
    "    JOIN compound_structures cs on cs.molregno = md.molregno\n",
    "    WHERE\n",
    "        md.chembl_id in  ('''\n",
    "def create_chembl_sql(ids: pl.Series, output: str):\n",
    "    with open(output, 'wt') as f:\n",
    "        print(PREAMBLE, file=f)\n",
    "        for cid in ids:\n",
    "            print(f\"          '{cid}',\", file=f)\n",
    "        print('        );', file=f)\n",
    "    \n",
    "    print(f'wrote SQL query for {len(ids)} ChemBL ids to: {output}')\n",
    "\n",
    "dtcCmpds = qDtcProt.select('compound_id').unique().collect().to_series()\n",
    "create_chembl_sql(dtcCmpds, 'queries/dtc-cmpds.sql')"
   ]
  }
 ],
 "metadata": {
  "kernelspec": {
   "display_name": "Python 3 (ipykernel)",
   "language": "python",
   "name": "python3"
  },
  "language_info": {
   "codemirror_mode": {
    "name": "ipython",
    "version": 3
   },
   "file_extension": ".py",
   "mimetype": "text/x-python",
   "name": "python",
   "nbconvert_exporter": "python",
   "pygments_lexer": "ipython3",
   "version": "3.10.9"
  }
 },
 "nbformat": 4,
 "nbformat_minor": 5
}
