{
 "cells": [
  {
   "cell_type": "code",
   "execution_count": 1,
   "id": "4b01e7c6",
   "metadata": {},
   "outputs": [],
   "source": [
    "import numpy as np\n",
    "from rdkit.Chem import AllChem\n",
    "import polars as pl\n",
    "import xgboost as xgb\n",
    "import skopt\n",
    "import sklearn\n",
    "\n",
    "import math\n",
    "from typing import Dict, Tuple, List, Optional"
   ]
  },
  {
   "cell_type": "code",
   "execution_count": 2,
   "id": "dd5dbeb6",
   "metadata": {},
   "outputs": [],
   "source": [
    "# load dataset\n",
    "# load uniprot to seq map\n",
    "# select a single id from uniprot map\n",
    "# filter dataset to compounds for that kinase\n",
    "# split data (80/20) for test validate\n",
    "# run through 50, 100, 200? opt loops for xgboost\n",
    "# features?\n",
    "# save finished model to some sort of directory"
   ]
  },
  {
   "cell_type": "code",
   "execution_count": 3,
   "id": "3148c5ed",
   "metadata": {},
   "outputs": [
    {
     "data": {
      "text/plain": [
       "'P11799'"
      ]
     },
     "execution_count": 3,
     "metadata": {},
     "output_type": "execute_result"
    }
   ],
   "source": [
    "def index_kinases(tsv_path: str, idx: int) -> Optional[str]:\n",
    "    ''' read Uniprot TSV file and get the Uniprot ID at line `idx` '''\n",
    "    with open(tsv_path, 'rt') as f:\n",
    "        for i, line in enumerate(f):\n",
    "            if i == idx: return line.split('\\t')[0]\n",
    "    \n",
    "    return None\n",
    "    \n",
    "index_kinases('data/map-uniprot-seq.tsv', 1131)"
   ]
  },
  {
   "cell_type": "code",
   "execution_count": 32,
   "id": "b7a11511",
   "metadata": {},
   "outputs": [
    {
     "data": {
      "text/plain": [
       "['compound_chembl_id',\n",
       " 'canonical_smiles',\n",
       " 'standard_inchi',\n",
       " 'uniprot',\n",
       " 'standard_type',\n",
       " 'Median Activity [-logP]']"
      ]
     },
     "execution_count": 32,
     "metadata": {},
     "output_type": "execute_result"
    }
   ],
   "source": [
    "pl.scan_parquet('data/full-median.parquet').columns"
   ]
  },
  {
   "cell_type": "code",
   "execution_count": 18,
   "id": "f7d6ab18",
   "metadata": {},
   "outputs": [],
   "source": [
    "def ecfp_from_inchi(inchi, R=2):\n",
    "    mol = AllChem.MolFromInchi(inchi)\n",
    "    return np.array(AllChem.GetMorganFingerprintAsBitVect(mol, R), dtype=np.uint8)\n",
    "\n",
    "\n",
    "raw = (pl.scan_parquet('data/full-median.parquet')\n",
    "    .select('compound_chembl_id', 'canonical_smiles', 'standard_inchi')\n",
    "    .unique()\n",
    ")\n",
    "# raw = (pl.scan_parquet('data/full-median.parquet')\n",
    "#      .select('compound_chembl_id', 'canonical_smiles', 'standard_inchi')\n",
    "#      .unique()\n",
    "#      .with_columns([\n",
    "#          pl.col('standard_inchi').apply(ecfp_from_inchi, return_dtype=pl.List(pl.UInt8)).alias('ECFP')\n",
    "#      ])\n",
    "#      .select('compound_chembl_id', 'ECFP')\n",
    "#      .fetch(20)\n",
    "# )\n",
    "\n",
    "# test = pl.scan_parquet('data/full-median.parquet').fetch(1)[0, 'standard_inchi']"
   ]
  },
  {
   "cell_type": "code",
   "execution_count": 19,
   "id": "7bbd8754",
   "metadata": {},
   "outputs": [
    {
     "data": {
      "text/html": [
       "<div><style>\n",
       ".dataframe > thead > tr > th,\n",
       ".dataframe > tbody > tr > td {\n",
       "  text-align: right;\n",
       "}\n",
       "</style>\n",
       "<small>shape: (128584, 3)</small><table border=\"1\" class=\"dataframe\"><thead><tr><th>compound_chembl_id</th><th>canonical_smiles</th><th>standard_inchi</th></tr><tr><td>str</td><td>str</td><td>str</td></tr></thead><tbody><tr><td>&quot;CHEMBL3680427&quot;</td><td>&quot;C[C@@H](Nc1ncn…</td><td>&quot;InChI=1S/C25H1…</td></tr><tr><td>&quot;CHEMBL3894803&quot;</td><td>&quot;Cc1cnc(Nc2cnn(…</td><td>&quot;InChI=1S/C21H2…</td></tr><tr><td>&quot;CHEMBL3970953&quot;</td><td>&quot;Cc1cncc(-c2cc3…</td><td>&quot;InChI=1S/C19H1…</td></tr><tr><td>&quot;CHEMBL3701277&quot;</td><td>&quot;COc1cc(C#Cc2cn…</td><td>&quot;InChI=1S/C27H3…</td></tr><tr><td>&quot;CHEMBL248853&quot;</td><td>&quot;CCn1c(-c2ccnc(…</td><td>&quot;InChI=1S/C13H1…</td></tr><tr><td>&quot;CHEMBL3950222&quot;</td><td>&quot;O=C(Cc1nc(N2CC…</td><td>&quot;InChI=1S/C20H2…</td></tr><tr><td>&quot;CHEMBL574236&quot;</td><td>&quot;COc1ccccc1-n1c…</td><td>&quot;InChI=1S/C22H1…</td></tr><tr><td>&quot;CHEMBL4740635&quot;</td><td>&quot;O=c1c2cc(-c3cn…</td><td>&quot;InChI=1S/C18H1…</td></tr><tr><td>&quot;CHEMBL4457529&quot;</td><td>&quot;COCC(C)(C)C#Cc…</td><td>&quot;InChI=1S/C20H2…</td></tr><tr><td>&quot;CHEMBL4553708&quot;</td><td>&quot;OCCNc1nc(Nc2cc…</td><td>&quot;InChI=1S/C13H1…</td></tr><tr><td>&quot;CHEMBL1765733&quot;</td><td>&quot;Nc1nc(-c2ccc3c…</td><td>&quot;InChI=1S/C23H2…</td></tr><tr><td>&quot;CHEMBL2064565&quot;</td><td>&quot;CN(C)C[C@@H](O…</td><td>&quot;InChI=1S/C24H2…</td></tr><tr><td>&hellip;</td><td>&hellip;</td><td>&hellip;</td></tr><tr><td>&quot;CHEMBL561985&quot;</td><td>&quot;Cc1nnc2sc(SCc3…</td><td>&quot;InChI=1S/C11H1…</td></tr><tr><td>&quot;CHEMBL1929231&quot;</td><td>&quot;COCCOCCN1CCN(C…</td><td>&quot;InChI=1S/C26H3…</td></tr><tr><td>&quot;CHEMBL3685114&quot;</td><td>&quot;Cc1ccncc1-c1cc…</td><td>&quot;InChI=1S/C22H2…</td></tr><tr><td>&quot;CHEMBL3893288&quot;</td><td>&quot;NC(O)C1CCC(c2c…</td><td>&quot;InChI=1S/C23H2…</td></tr><tr><td>&quot;CHEMBL2313909&quot;</td><td>&quot;COc1cc(Nc2ncnc…</td><td>&quot;InChI=1S/C19H1…</td></tr><tr><td>&quot;CHEMBL3650682&quot;</td><td>&quot;N#C[C@H]1CCC2(…</td><td>&quot;InChI=1S/C19H2…</td></tr><tr><td>&quot;CHEMBL1765460&quot;</td><td>&quot;O=S(=O)(Nc1cnc…</td><td>&quot;InChI=1S/C18H1…</td></tr><tr><td>&quot;CHEMBL27688&quot;</td><td>&quot;C=CC(=O)Nc1cc2…</td><td>&quot;InChI=1S/C25H2…</td></tr><tr><td>&quot;CHEMBL4519741&quot;</td><td>&quot;CC(C)(C)c1cc(N…</td><td>&quot;InChI=1S/C19H1…</td></tr><tr><td>&quot;CHEMBL1783752&quot;</td><td>&quot;CC(C)S(=O)(=O)…</td><td>&quot;InChI=1S/C22H2…</td></tr><tr><td>&quot;CHEMBL582853&quot;</td><td>&quot;Cc1ccc(-c2ccc3…</td><td>&quot;InChI=1S/C18H1…</td></tr><tr><td>&quot;CHEMBL4549308&quot;</td><td>&quot;CCOc1cc(C2CCN(…</td><td>&quot;InChI=1S/C28H3…</td></tr></tbody></table></div>"
      ],
      "text/plain": [
       "shape: (128_584, 3)\n",
       "┌────────────────────┬───────────────────────────────────┬───────────────────────────────────┐\n",
       "│ compound_chembl_id ┆ canonical_smiles                  ┆ standard_inchi                    │\n",
       "│ ---                ┆ ---                               ┆ ---                               │\n",
       "│ str                ┆ str                               ┆ str                               │\n",
       "╞════════════════════╪═══════════════════════════════════╪═══════════════════════════════════╡\n",
       "│ CHEMBL3680427      ┆ C[C@@H](Nc1ncnc2c(C(N)=O)cccc12)… ┆ InChI=1S/C25H19ClF3N5O2/c1-13(33… │\n",
       "│ CHEMBL3894803      ┆ Cc1cnc(Nc2cnn(C)c2)nc1NC1CCC2(CC… ┆ InChI=1S/C21H28N8O/c1-15-11-23-2… │\n",
       "│ CHEMBL3970953      ┆ Cc1cncc(-c2cc3c(cnn3-c3cccc(N4CC… ┆ InChI=1S/C19H19N9/c1-13-10-21-11… │\n",
       "│ CHEMBL3701277      ┆ COc1cc(C#Cc2cn(C3CCN(C(=O)/C=C/C… ┆ InChI=1S/C27H32N6O3/c1-31(2)11-5… │\n",
       "│ …                  ┆ …                                 ┆ …                                 │\n",
       "│ CHEMBL4519741      ┆ CC(C)(C)c1cc(NC(=O)Nc2ccc(Oc3ncn… ┆ InChI=1S/C19H18FN7O3/c1-19(2,3)1… │\n",
       "│ CHEMBL1783752      ┆ CC(C)S(=O)(=O)c1ccn([C@@H](CC2CC… ┆ InChI=1S/C22H26F3N3O4S/c1-14(2)3… │\n",
       "│ CHEMBL582853       ┆ Cc1ccc(-c2ccc3occ(-c4ccncc4)c3c2… ┆ InChI=1S/C18H13NO2/c1-12-2-4-17(… │\n",
       "│ CHEMBL4549308      ┆ CCOc1cc(C2CCN(C)CC2)ccc1Nc1ncc2c… ┆ InChI=1S/C28H37N7O2S/c1-6-22-27(… │\n",
       "└────────────────────┴───────────────────────────────────┴───────────────────────────────────┘"
      ]
     },
     "execution_count": 19,
     "metadata": {},
     "output_type": "execute_result"
    }
   ],
   "source": [
    "# 128584\n",
    "# 253238\n",
    "df = raw.collect()\n",
    "df"
   ]
  },
  {
   "cell_type": "code",
   "execution_count": 20,
   "id": "a65938e4",
   "metadata": {},
   "outputs": [
    {
     "name": "stderr",
     "output_type": "stream",
     "text": [
      "[13:56:29] WARNING:  Problems/mismatches: Mobile-H( Hydrogens: Locations or number, Number; Charge(s): Do not match)\n",
      "\n",
      "[13:56:30] WARNING:  Problems/mismatches: Mobile-H( Hydrogens: Locations or number, Number; Mobile-H groups: Missing, Attachment points; Charge(s): Do not match; Proton balance: Does not match)\n",
      "\n",
      "[13:56:48] WARNING:  Problems/mismatches: Mobile-H( Hydrogens: Locations or number; Mobile-H groups: Attachment points, Number)\n",
      "\n",
      "[13:57:08] WARNING:  Problems/mismatches: Mobile-H( Hydrogens: Locations or number; Mobile-H groups: Attachment points, Number)\n",
      "\n",
      "[13:57:20] WARNING:  Problems/mismatches: Mobile-H( Hydrogens: Locations or number, Number; Charge(s): Do not match)\n",
      "\n",
      "[13:57:21] WARNING:  Problems/mismatches: Mobile-H( Hydrogens: Locations or number; Mobile-H groups: Attachment points, Number)\n",
      "\n",
      "[13:57:32] WARNING:  Problems/mismatches: Mobile-H( Hydrogens: Locations or number, Number; Charge(s): Do not match)\n",
      "\n",
      "[13:57:47] WARNING:  Problems/mismatches: Mobile-H( Hydrogens: Locations or number; Mobile-H groups: Attachment points, Number)\n",
      "\n",
      "[13:58:04] WARNING:  Problems/mismatches: Mobile-H( Hydrogens: Locations or number; Mobile-H groups: Attachment points, Number)\n",
      "\n"
     ]
    }
   ],
   "source": [
    "it = zip(df['compound_chembl_id'], df['standard_inchi'])\n",
    "output = {i: ecfp_from_inchi(key, 2) for i, key in it}"
   ]
  },
  {
   "cell_type": "code",
   "execution_count": 25,
   "id": "f29ad709",
   "metadata": {},
   "outputs": [],
   "source": [
    "import pickle\n",
    "\n",
    "with open('data/map-ecfp2.pkl', 'wb') as f:\n",
    "    pickle.dump(output, f)"
   ]
  },
  {
   "cell_type": "code",
   "execution_count": 35,
   "id": "58039af3",
   "metadata": {},
   "outputs": [],
   "source": [
    "target = index_kinases('data/map-uniprot-seq.tsv', 2)\n",
    "MEASURES = ['KD', 'KI', 'EC50']\n",
    "ACTIVITY = 'Median Activity [-logP]'\n",
    "\n",
    "data = (pl.scan_parquet('data/full-median.parquet')\n",
    " .filter(pl.col('uniprot') == target)\n",
    " .filter(pl.col('standard_type').is_in(MEASURES))\n",
    " .select(['compound_chembl_id', ACTIVITY])\n",
    " .groupby('compound_chembl_id').median()\n",
    ").collect()\n"
   ]
  },
  {
   "cell_type": "code",
   "execution_count": 36,
   "id": "042c6e5d",
   "metadata": {},
   "outputs": [],
   "source": [
    "labels = data[ACTIVITY].to_numpy()"
   ]
  },
  {
   "cell_type": "code",
   "execution_count": 43,
   "id": "1cc93c00",
   "metadata": {},
   "outputs": [],
   "source": [
    "feats = np.array([output[chembl] for chembl in data['compound_chembl_id']])"
   ]
  },
  {
   "cell_type": "code",
   "execution_count": 44,
   "id": "a63571ed",
   "metadata": {},
   "outputs": [
    {
     "data": {
      "text/plain": [
       "<xgboost.core.DMatrix at 0x1682a9690>"
      ]
     },
     "execution_count": 44,
     "metadata": {},
     "output_type": "execute_result"
    }
   ],
   "source": [
    "dtrain = xgb.DMatrix(feats, label=labels)\n",
    "bst = xgb.train({}, dtrain)\n"
   ]
  },
  {
   "cell_type": "code",
   "execution_count": 144,
   "id": "2b7f6d40",
   "metadata": {},
   "outputs": [
    {
     "name": "stderr",
     "output_type": "stream",
     "text": [
      "/Users/mwc/Documents/cobb/cobb2066/projects/08/dev/lib/python3.10/site-packages/skopt/optimizer/optimizer.py:449: UserWarning: The objective has been evaluated at this point before.\n",
      "  warnings.warn(\"The objective has been evaluated \"\n",
      "/Users/mwc/Documents/cobb/cobb2066/projects/08/dev/lib/python3.10/site-packages/skopt/optimizer/optimizer.py:449: UserWarning: The objective has been evaluated at this point before.\n",
      "  warnings.warn(\"The objective has been evaluated \"\n",
      "/Users/mwc/Documents/cobb/cobb2066/projects/08/dev/lib/python3.10/site-packages/skopt/optimizer/optimizer.py:449: UserWarning: The objective has been evaluated at this point before.\n",
      "  warnings.warn(\"The objective has been evaluated \"\n",
      "/Users/mwc/Documents/cobb/cobb2066/projects/08/dev/lib/python3.10/site-packages/skopt/optimizer/optimizer.py:449: UserWarning: The objective has been evaluated at this point before.\n",
      "  warnings.warn(\"The objective has been evaluated \"\n",
      "/Users/mwc/Documents/cobb/cobb2066/projects/08/dev/lib/python3.10/site-packages/skopt/optimizer/optimizer.py:449: UserWarning: The objective has been evaluated at this point before.\n",
      "  warnings.warn(\"The objective has been evaluated \"\n",
      "/Users/mwc/Documents/cobb/cobb2066/projects/08/dev/lib/python3.10/site-packages/skopt/optimizer/optimizer.py:449: UserWarning: The objective has been evaluated at this point before.\n",
      "  warnings.warn(\"The objective has been evaluated \"\n",
      "/Users/mwc/Documents/cobb/cobb2066/projects/08/dev/lib/python3.10/site-packages/skopt/optimizer/optimizer.py:449: UserWarning: The objective has been evaluated at this point before.\n",
      "  warnings.warn(\"The objective has been evaluated \"\n",
      "/Users/mwc/Documents/cobb/cobb2066/projects/08/dev/lib/python3.10/site-packages/skopt/optimizer/optimizer.py:449: UserWarning: The objective has been evaluated at this point before.\n",
      "  warnings.warn(\"The objective has been evaluated \"\n",
      "/Users/mwc/Documents/cobb/cobb2066/projects/08/dev/lib/python3.10/site-packages/skopt/optimizer/optimizer.py:449: UserWarning: The objective has been evaluated at this point before.\n",
      "  warnings.warn(\"The objective has been evaluated \"\n",
      "/Users/mwc/Documents/cobb/cobb2066/projects/08/dev/lib/python3.10/site-packages/skopt/optimizer/optimizer.py:449: UserWarning: The objective has been evaluated at this point before.\n",
      "  warnings.warn(\"The objective has been evaluated \"\n"
     ]
    },
    {
     "data": {
      "text/html": [
       "<style>#sk-container-id-11 {color: black;background-color: white;}#sk-container-id-11 pre{padding: 0;}#sk-container-id-11 div.sk-toggleable {background-color: white;}#sk-container-id-11 label.sk-toggleable__label {cursor: pointer;display: block;width: 100%;margin-bottom: 0;padding: 0.3em;box-sizing: border-box;text-align: center;}#sk-container-id-11 label.sk-toggleable__label-arrow:before {content: \"▸\";float: left;margin-right: 0.25em;color: #696969;}#sk-container-id-11 label.sk-toggleable__label-arrow:hover:before {color: black;}#sk-container-id-11 div.sk-estimator:hover label.sk-toggleable__label-arrow:before {color: black;}#sk-container-id-11 div.sk-toggleable__content {max-height: 0;max-width: 0;overflow: hidden;text-align: left;background-color: #f0f8ff;}#sk-container-id-11 div.sk-toggleable__content pre {margin: 0.2em;color: black;border-radius: 0.25em;background-color: #f0f8ff;}#sk-container-id-11 input.sk-toggleable__control:checked~div.sk-toggleable__content {max-height: 200px;max-width: 100%;overflow: auto;}#sk-container-id-11 input.sk-toggleable__control:checked~label.sk-toggleable__label-arrow:before {content: \"▾\";}#sk-container-id-11 div.sk-estimator input.sk-toggleable__control:checked~label.sk-toggleable__label {background-color: #d4ebff;}#sk-container-id-11 div.sk-label input.sk-toggleable__control:checked~label.sk-toggleable__label {background-color: #d4ebff;}#sk-container-id-11 input.sk-hidden--visually {border: 0;clip: rect(1px 1px 1px 1px);clip: rect(1px, 1px, 1px, 1px);height: 1px;margin: -1px;overflow: hidden;padding: 0;position: absolute;width: 1px;}#sk-container-id-11 div.sk-estimator {font-family: monospace;background-color: #f0f8ff;border: 1px dotted black;border-radius: 0.25em;box-sizing: border-box;margin-bottom: 0.5em;}#sk-container-id-11 div.sk-estimator:hover {background-color: #d4ebff;}#sk-container-id-11 div.sk-parallel-item::after {content: \"\";width: 100%;border-bottom: 1px solid gray;flex-grow: 1;}#sk-container-id-11 div.sk-label:hover label.sk-toggleable__label {background-color: #d4ebff;}#sk-container-id-11 div.sk-serial::before {content: \"\";position: absolute;border-left: 1px solid gray;box-sizing: border-box;top: 0;bottom: 0;left: 50%;z-index: 0;}#sk-container-id-11 div.sk-serial {display: flex;flex-direction: column;align-items: center;background-color: white;padding-right: 0.2em;padding-left: 0.2em;position: relative;}#sk-container-id-11 div.sk-item {position: relative;z-index: 1;}#sk-container-id-11 div.sk-parallel {display: flex;align-items: stretch;justify-content: center;background-color: white;position: relative;}#sk-container-id-11 div.sk-item::before, #sk-container-id-11 div.sk-parallel-item::before {content: \"\";position: absolute;border-left: 1px solid gray;box-sizing: border-box;top: 0;bottom: 0;left: 50%;z-index: -1;}#sk-container-id-11 div.sk-parallel-item {display: flex;flex-direction: column;z-index: 1;position: relative;background-color: white;}#sk-container-id-11 div.sk-parallel-item:first-child::after {align-self: flex-end;width: 50%;}#sk-container-id-11 div.sk-parallel-item:last-child::after {align-self: flex-start;width: 50%;}#sk-container-id-11 div.sk-parallel-item:only-child::after {width: 0;}#sk-container-id-11 div.sk-dashed-wrapped {border: 1px dashed gray;margin: 0 0.4em 0.5em 0.4em;box-sizing: border-box;padding-bottom: 0.4em;background-color: white;}#sk-container-id-11 div.sk-label label {font-family: monospace;font-weight: bold;display: inline-block;line-height: 1.2em;}#sk-container-id-11 div.sk-label-container {text-align: center;}#sk-container-id-11 div.sk-container {/* jupyter's `normalize.less` sets `[hidden] { display: none; }` but bootstrap.min.css set `[hidden] { display: none !important; }` so we also need the `!important` here to be able to override the default hidden behavior on the sphinx rendered scikit-learn.org. See: https://github.com/scikit-learn/scikit-learn/issues/21755 */display: inline-block !important;position: relative;}#sk-container-id-11 div.sk-text-repr-fallback {display: none;}</style><div id=\"sk-container-id-11\" class=\"sk-top-container\"><div class=\"sk-text-repr-fallback\"><pre>BayesSearchCV(cv=5,\n",
       "              estimator=XGBRegressor(base_score=None, booster=None,\n",
       "                                     callbacks=None, colsample_bylevel=None,\n",
       "                                     colsample_bynode=None,\n",
       "                                     colsample_bytree=None,\n",
       "                                     early_stopping_rounds=None,\n",
       "                                     enable_categorical=False, eval_metric=None,\n",
       "                                     feature_types=None, gamma=None,\n",
       "                                     gpu_id=None, grow_policy=None,\n",
       "                                     importance_type=None,\n",
       "                                     interaction_constraints=None,\n",
       "                                     learning_rate=None,...\n",
       "                                     missing=nan, monotone_constraints=None,\n",
       "                                     n_estimators=100, n_jobs=None,\n",
       "                                     num_parallel_tree=None, predictor=None,\n",
       "                                     random_state=None, ...),\n",
       "              n_iter=200, n_jobs=-1, scoring=&#x27;neg_root_mean_squared_error&#x27;,\n",
       "              search_spaces={&#x27;max_depth&#x27;: (1, 20), &#x27;max_leaves&#x27;: (0, 20),\n",
       "                             &#x27;n_estimators&#x27;: Integer(low=1, high=500, prior=&#x27;uniform&#x27;, transform=&#x27;normalize&#x27;),\n",
       "                             &#x27;subsample&#x27;: (0.5, 1.0, &#x27;uniform&#x27;)})</pre><b>In a Jupyter environment, please rerun this cell to show the HTML representation or trust the notebook. <br />On GitHub, the HTML representation is unable to render, please try loading this page with nbviewer.org.</b></div><div class=\"sk-container\" hidden><div class=\"sk-item sk-dashed-wrapped\"><div class=\"sk-label-container\"><div class=\"sk-label sk-toggleable\"><input class=\"sk-toggleable__control sk-hidden--visually\" id=\"sk-estimator-id-23\" type=\"checkbox\" ><label for=\"sk-estimator-id-23\" class=\"sk-toggleable__label sk-toggleable__label-arrow\">BayesSearchCV</label><div class=\"sk-toggleable__content\"><pre>BayesSearchCV(cv=5,\n",
       "              estimator=XGBRegressor(base_score=None, booster=None,\n",
       "                                     callbacks=None, colsample_bylevel=None,\n",
       "                                     colsample_bynode=None,\n",
       "                                     colsample_bytree=None,\n",
       "                                     early_stopping_rounds=None,\n",
       "                                     enable_categorical=False, eval_metric=None,\n",
       "                                     feature_types=None, gamma=None,\n",
       "                                     gpu_id=None, grow_policy=None,\n",
       "                                     importance_type=None,\n",
       "                                     interaction_constraints=None,\n",
       "                                     learning_rate=None,...\n",
       "                                     missing=nan, monotone_constraints=None,\n",
       "                                     n_estimators=100, n_jobs=None,\n",
       "                                     num_parallel_tree=None, predictor=None,\n",
       "                                     random_state=None, ...),\n",
       "              n_iter=200, n_jobs=-1, scoring=&#x27;neg_root_mean_squared_error&#x27;,\n",
       "              search_spaces={&#x27;max_depth&#x27;: (1, 20), &#x27;max_leaves&#x27;: (0, 20),\n",
       "                             &#x27;n_estimators&#x27;: Integer(low=1, high=500, prior=&#x27;uniform&#x27;, transform=&#x27;normalize&#x27;),\n",
       "                             &#x27;subsample&#x27;: (0.5, 1.0, &#x27;uniform&#x27;)})</pre></div></div></div><div class=\"sk-parallel\"><div class=\"sk-parallel-item\"><div class=\"sk-item\"><div class=\"sk-label-container\"><div class=\"sk-label sk-toggleable\"><input class=\"sk-toggleable__control sk-hidden--visually\" id=\"sk-estimator-id-24\" type=\"checkbox\" ><label for=\"sk-estimator-id-24\" class=\"sk-toggleable__label sk-toggleable__label-arrow\">estimator: XGBRegressor</label><div class=\"sk-toggleable__content\"><pre>XGBRegressor(base_score=None, booster=None, callbacks=None,\n",
       "             colsample_bylevel=None, colsample_bynode=None,\n",
       "             colsample_bytree=None, early_stopping_rounds=None,\n",
       "             enable_categorical=False, eval_metric=None, feature_types=None,\n",
       "             gamma=None, gpu_id=None, grow_policy=None, importance_type=None,\n",
       "             interaction_constraints=None, learning_rate=None, max_bin=None,\n",
       "             max_cat_threshold=None, max_cat_to_onehot=None,\n",
       "             max_delta_step=None, max_depth=None, max_leaves=None,\n",
       "             min_child_weight=None, missing=nan, monotone_constraints=None,\n",
       "             n_estimators=100, n_jobs=None, num_parallel_tree=None,\n",
       "             predictor=None, random_state=None, ...)</pre></div></div></div><div class=\"sk-serial\"><div class=\"sk-item\"><div class=\"sk-estimator sk-toggleable\"><input class=\"sk-toggleable__control sk-hidden--visually\" id=\"sk-estimator-id-25\" type=\"checkbox\" ><label for=\"sk-estimator-id-25\" class=\"sk-toggleable__label sk-toggleable__label-arrow\">XGBRegressor</label><div class=\"sk-toggleable__content\"><pre>XGBRegressor(base_score=None, booster=None, callbacks=None,\n",
       "             colsample_bylevel=None, colsample_bynode=None,\n",
       "             colsample_bytree=None, early_stopping_rounds=None,\n",
       "             enable_categorical=False, eval_metric=None, feature_types=None,\n",
       "             gamma=None, gpu_id=None, grow_policy=None, importance_type=None,\n",
       "             interaction_constraints=None, learning_rate=None, max_bin=None,\n",
       "             max_cat_threshold=None, max_cat_to_onehot=None,\n",
       "             max_delta_step=None, max_depth=None, max_leaves=None,\n",
       "             min_child_weight=None, missing=nan, monotone_constraints=None,\n",
       "             n_estimators=100, n_jobs=None, num_parallel_tree=None,\n",
       "             predictor=None, random_state=None, ...)</pre></div></div></div></div></div></div></div></div></div></div>"
      ],
      "text/plain": [
       "BayesSearchCV(cv=5,\n",
       "              estimator=XGBRegressor(base_score=None, booster=None,\n",
       "                                     callbacks=None, colsample_bylevel=None,\n",
       "                                     colsample_bynode=None,\n",
       "                                     colsample_bytree=None,\n",
       "                                     early_stopping_rounds=None,\n",
       "                                     enable_categorical=False, eval_metric=None,\n",
       "                                     feature_types=None, gamma=None,\n",
       "                                     gpu_id=None, grow_policy=None,\n",
       "                                     importance_type=None,\n",
       "                                     interaction_constraints=None,\n",
       "                                     learning_rate=None,...\n",
       "                                     missing=nan, monotone_constraints=None,\n",
       "                                     n_estimators=100, n_jobs=None,\n",
       "                                     num_parallel_tree=None, predictor=None,\n",
       "                                     random_state=None, ...),\n",
       "              n_iter=200, n_jobs=-1, scoring='neg_root_mean_squared_error',\n",
       "              search_spaces={'max_depth': (1, 20), 'max_leaves': (0, 20),\n",
       "                             'n_estimators': Integer(low=1, high=500, prior='uniform', transform='normalize'),\n",
       "                             'subsample': (0.5, 1.0, 'uniform')})"
      ]
     },
     "execution_count": 144,
     "metadata": {},
     "output_type": "execute_result"
    }
   ],
   "source": [
    "from skopt import BayesSearchCV\n",
    "from skopt.space import space\n",
    "from sklearn.model_selection import train_test_split\n",
    "\n",
    "np.int = int\n",
    "\n",
    "X_train, X_val, y_train, y_val = train_test_split(feats, labels, train_size=0.8, test_size=0.2, random_state=42)\n",
    "\n",
    "xgbr = xgb.XGBRegressor(tree_method='hist')\n",
    "\n",
    "opt = BayesSearchCV(\n",
    "    xgbr,\n",
    "    {\n",
    "        'n_estimators': space.Integer(1, 500, dtype=np.int64),\n",
    "        'max_depth': (1, 20),\n",
    "        'max_leaves': (0, 20),\n",
    "        'subsample': (0.5, 1.0, 'uniform'),\n",
    "    },\n",
    "    n_iter=200,\n",
    "    scoring='neg_root_mean_squared_error',\n",
    "    cv=5,\n",
    "    n_jobs=-1\n",
    ")\n",
    "\n",
    "opt.fit(X_train, y_train)"
   ]
  },
  {
   "cell_type": "code",
   "execution_count": 145,
   "id": "d3e772e2",
   "metadata": {},
   "outputs": [
    {
     "data": {
      "text/plain": [
       "(OrderedDict([('max_depth', 1),\n",
       "              ('max_leaves', 20),\n",
       "              ('n_estimators', 35),\n",
       "              ('subsample', 1.0)]),\n",
       " -0.7162245920770927)"
      ]
     },
     "execution_count": 145,
     "metadata": {},
     "output_type": "execute_result"
    }
   ],
   "source": [
    "opt.best_params_, opt.best_score_"
   ]
  },
  {
   "cell_type": "code",
   "execution_count": 146,
   "id": "3569fdd5",
   "metadata": {},
   "outputs": [
    {
     "data": {
      "text/html": [
       "<div><style>\n",
       ".dataframe > thead > tr > th,\n",
       ".dataframe > tbody > tr > td {\n",
       "  text-align: right;\n",
       "}\n",
       "</style>\n",
       "<small>shape: (200, 17)</small><table border=\"1\" class=\"dataframe\"><thead><tr><th>mean_fit_time</th><th>std_fit_time</th><th>mean_score_time</th><th>std_score_time</th><th>param_max_depth</th><th>param_max_leaves</th><th>param_n_estimators</th><th>param_subsample</th><th>params</th><th>split0_test_score</th><th>split1_test_score</th><th>split2_test_score</th><th>split3_test_score</th><th>split4_test_score</th><th>mean_test_score</th><th>std_test_score</th><th>rank_test_score</th></tr><tr><td>f64</td><td>f64</td><td>f64</td><td>f64</td><td>object</td><td>object</td><td>object</td><td>object</td><td>struct[4]</td><td>f64</td><td>f64</td><td>f64</td><td>f64</td><td>f64</td><td>f64</td><td>f64</td><td>i32</td></tr></thead><tbody><tr><td>0.028181</td><td>0.002007</td><td>0.000986</td><td>0.000033</td><td>1</td><td>20</td><td>35</td><td>1.0</td><td>{1,20,35,1.0}</td><td>-0.796864</td><td>-0.563692</td><td>-0.699417</td><td>-0.735372</td><td>-0.785777</td><td>-0.716225</td><td>0.083971</td><td>1</td></tr><tr><td>0.021851</td><td>0.000189</td><td>0.000973</td><td>0.000028</td><td>1</td><td>0</td><td>35</td><td>1.0</td><td>{1,0,35,1.0}</td><td>-0.796864</td><td>-0.563692</td><td>-0.699417</td><td>-0.735372</td><td>-0.785777</td><td>-0.716225</td><td>0.083971</td><td>1</td></tr><tr><td>0.022616</td><td>0.001465</td><td>0.000957</td><td>0.000013</td><td>1</td><td>20</td><td>18</td><td>1.0</td><td>{1,20,18,1.0}</td><td>-0.794987</td><td>-0.584606</td><td>-0.68834</td><td>-0.746775</td><td>-0.766843</td><td>-0.71631</td><td>0.074566</td><td>3</td></tr><tr><td>0.01717</td><td>0.000364</td><td>0.000983</td><td>0.000048</td><td>1</td><td>20</td><td>18</td><td>1.0</td><td>{1,20,18,1.0}</td><td>-0.794987</td><td>-0.584606</td><td>-0.68834</td><td>-0.746775</td><td>-0.766843</td><td>-0.71631</td><td>0.074566</td><td>3</td></tr><tr><td>0.017534</td><td>0.000485</td><td>0.001006</td><td>0.000035</td><td>1</td><td>20</td><td>18</td><td>1.0</td><td>{1,20,18,1.0}</td><td>-0.794987</td><td>-0.584606</td><td>-0.68834</td><td>-0.746775</td><td>-0.766843</td><td>-0.71631</td><td>0.074566</td><td>3</td></tr><tr><td>0.022282</td><td>0.000656</td><td>0.000964</td><td>0.000067</td><td>1</td><td>20</td><td>37</td><td>1.0</td><td>{1,20,37,1.0}</td><td>-0.797028</td><td>-0.559447</td><td>-0.692908</td><td>-0.733651</td><td>-0.79937</td><td>-0.716481</td><td>0.088169</td><td>6</td></tr><tr><td>0.022376</td><td>0.000435</td><td>0.000991</td><td>0.000039</td><td>1</td><td>20</td><td>37</td><td>1.0</td><td>{1,20,37,1.0}</td><td>-0.797028</td><td>-0.559447</td><td>-0.692908</td><td>-0.733651</td><td>-0.79937</td><td>-0.716481</td><td>0.088169</td><td>6</td></tr><tr><td>0.022279</td><td>0.000402</td><td>0.00097</td><td>0.000033</td><td>1</td><td>0</td><td>37</td><td>1.0</td><td>{1,0,37,1.0}</td><td>-0.797028</td><td>-0.559447</td><td>-0.692908</td><td>-0.733651</td><td>-0.79937</td><td>-0.716481</td><td>0.088169</td><td>6</td></tr><tr><td>0.023352</td><td>0.000713</td><td>0.000968</td><td>0.000018</td><td>1</td><td>0</td><td>19</td><td>1.0</td><td>{1,0,19,1.0}</td><td>-0.794977</td><td>-0.584052</td><td>-0.686836</td><td>-0.746809</td><td>-0.769757</td><td>-0.716486</td><td>0.075281</td><td>9</td></tr><tr><td>0.01682</td><td>0.000269</td><td>0.000943</td><td>0.000039</td><td>1</td><td>20</td><td>19</td><td>1.0</td><td>{1,20,19,1.0}</td><td>-0.794977</td><td>-0.584052</td><td>-0.686836</td><td>-0.746809</td><td>-0.769757</td><td>-0.716486</td><td>0.075281</td><td>9</td></tr><tr><td>0.018221</td><td>0.000575</td><td>0.001106</td><td>0.000135</td><td>1</td><td>20</td><td>19</td><td>1.0</td><td>{1,20,19,1.0}</td><td>-0.794977</td><td>-0.584052</td><td>-0.686836</td><td>-0.746809</td><td>-0.769757</td><td>-0.716486</td><td>0.075281</td><td>9</td></tr><tr><td>0.018132</td><td>0.000415</td><td>0.000994</td><td>0.000058</td><td>1</td><td>20</td><td>19</td><td>1.0</td><td>{1,20,19,1.0}</td><td>-0.794977</td><td>-0.584052</td><td>-0.686836</td><td>-0.746809</td><td>-0.769757</td><td>-0.716486</td><td>0.075281</td><td>9</td></tr><tr><td>&hellip;</td><td>&hellip;</td><td>&hellip;</td><td>&hellip;</td><td>&hellip;</td><td>&hellip;</td><td>&hellip;</td><td>&hellip;</td><td>&hellip;</td><td>&hellip;</td><td>&hellip;</td><td>&hellip;</td><td>&hellip;</td><td>&hellip;</td><td>&hellip;</td><td>&hellip;</td><td>&hellip;</td></tr><tr><td>0.202135</td><td>0.00203</td><td>0.001446</td><td>0.000036</td><td>20</td><td>0</td><td>67</td><td>0.5</td><td>{20,0,67,0.5}</td><td>-0.900682</td><td>-0.700048</td><td>-0.787433</td><td>-0.764346</td><td>-0.864822</td><td>-0.803466</td><td>0.071691</td><td>189</td></tr><tr><td>0.562912</td><td>0.048829</td><td>0.002193</td><td>0.000192</td><td>20</td><td>0</td><td>263</td><td>0.5</td><td>{20,0,263,0.5}</td><td>-0.899641</td><td>-0.709542</td><td>-0.786943</td><td>-0.757424</td><td>-0.865639</td><td>-0.803838</td><td>0.069755</td><td>190</td></tr><tr><td>0.636407</td><td>0.087584</td><td>0.002352</td><td>0.000267</td><td>20</td><td>0</td><td>318</td><td>0.5</td><td>{20,0,318,0.5}</td><td>-0.901076</td><td>-0.709979</td><td>-0.789368</td><td>-0.758869</td><td>-0.864892</td><td>-0.804837</td><td>0.069597</td><td>191</td></tr><tr><td>0.517775</td><td>0.038561</td><td>0.002034</td><td>0.00009</td><td>20</td><td>20</td><td>362</td><td>0.5</td><td>{20,20,362,0.5}</td><td>-0.907835</td><td>-0.683606</td><td>-0.786142</td><td>-0.765966</td><td>-0.881039</td><td>-0.804918</td><td>0.081207</td><td>192</td></tr><tr><td>0.484462</td><td>0.043984</td><td>0.00208</td><td>0.000112</td><td>20</td><td>0</td><td>223</td><td>0.5</td><td>{20,0,223,0.5}</td><td>-0.899442</td><td>-0.709577</td><td>-0.796236</td><td>-0.757325</td><td>-0.866138</td><td>-0.805744</td><td>0.06944</td><td>193</td></tr><tr><td>0.619151</td><td>0.075399</td><td>0.002344</td><td>0.000226</td><td>20</td><td>0</td><td>306</td><td>0.5</td><td>{20,0,306,0.5}</td><td>-0.902158</td><td>-0.708563</td><td>-0.791617</td><td>-0.759634</td><td>-0.876536</td><td>-0.807702</td><td>0.072191</td><td>194</td></tr><tr><td>0.34005</td><td>0.008444</td><td>0.00162</td><td>0.000069</td><td>20</td><td>20</td><td>215</td><td>0.5</td><td>{20,20,215,0.5}</td><td>-0.908227</td><td>-0.681653</td><td>-0.799521</td><td>-0.765082</td><td>-0.885847</td><td>-0.808066</td><td>0.082442</td><td>195</td></tr><tr><td>0.440524</td><td>0.024271</td><td>0.001701</td><td>0.000108</td><td>20</td><td>18</td><td>293</td><td>0.521381075570395</td><td>{20,18,293,0.521381}</td><td>-0.871588</td><td>-0.706027</td><td>-0.750089</td><td>-0.80382</td><td>-0.918277</td><td>-0.80996</td><td>0.077401</td><td>196</td></tr><tr><td>0.012285</td><td>0.000345</td><td>0.000924</td><td>0.000043</td><td>6</td><td>5</td><td>1</td><td>0.9191515530415205</td><td>{6,5,1,0.919152}</td><td>-3.902158</td><td>-3.744717</td><td>-4.013485</td><td>-3.946557</td><td>-4.078025</td><td>-3.936988</td><td>0.113151</td><td>197</td></tr><tr><td>0.018018</td><td>0.001944</td><td>0.000951</td><td>0.000021</td><td>4</td><td>6</td><td>1</td><td>0.9164673307110267</td><td>{4,6,1,0.916467}</td><td>-3.903738</td><td>-3.746243</td><td>-4.012629</td><td>-3.945679</td><td>-4.077212</td><td>-3.9371</td><td>0.112204</td><td>198</td></tr><tr><td>0.018719</td><td>0.000317</td><td>0.001012</td><td>0.00012</td><td>20</td><td>15</td><td>1</td><td>0.9529067404239218</td><td>{20,15,1,0.952907}</td><td>-3.902959</td><td>-3.748417</td><td>-4.015653</td><td>-3.94827</td><td>-4.077512</td><td>-3.938562</td><td>0.112042</td><td>199</td></tr><tr><td>0.022289</td><td>0.002541</td><td>0.003887</td><td>0.005759</td><td>19</td><td>14</td><td>1</td><td>0.9585738693567921</td><td>{19,14,1,0.958574}</td><td>-3.903296</td><td>-3.748805</td><td>-4.015461</td><td>-3.948111</td><td>-4.077302</td><td>-3.938595</td><td>0.111808</td><td>200</td></tr></tbody></table></div>"
      ],
      "text/plain": [
       "shape: (200, 17)\n",
       "┌────────────┬────────────┬────────────┬────────────┬───┬────────────┬────────────┬────────────┬────────────┐\n",
       "│ mean_fit_t ┆ std_fit_ti ┆ mean_score ┆ std_score_ ┆ … ┆ split4_tes ┆ mean_test_ ┆ std_test_s ┆ rank_test_ │\n",
       "│ ime        ┆ me         ┆ _time      ┆ time       ┆   ┆ t_score    ┆ score      ┆ core       ┆ score      │\n",
       "│ ---        ┆ ---        ┆ ---        ┆ ---        ┆   ┆ ---        ┆ ---        ┆ ---        ┆ ---        │\n",
       "│ f64        ┆ f64        ┆ f64        ┆ f64        ┆   ┆ f64        ┆ f64        ┆ f64        ┆ i32        │\n",
       "╞════════════╪════════════╪════════════╪════════════╪═══╪════════════╪════════════╪════════════╪════════════╡\n",
       "│ 0.028181   ┆ 0.002007   ┆ 0.000986   ┆ 0.000033   ┆ … ┆ -0.785777  ┆ -0.716225  ┆ 0.083971   ┆ 1          │\n",
       "│ 0.021851   ┆ 0.000189   ┆ 0.000973   ┆ 0.000028   ┆ … ┆ -0.785777  ┆ -0.716225  ┆ 0.083971   ┆ 1          │\n",
       "│ 0.022616   ┆ 0.001465   ┆ 0.000957   ┆ 0.000013   ┆ … ┆ -0.766843  ┆ -0.71631   ┆ 0.074566   ┆ 3          │\n",
       "│ 0.01717    ┆ 0.000364   ┆ 0.000983   ┆ 0.000048   ┆ … ┆ -0.766843  ┆ -0.71631   ┆ 0.074566   ┆ 3          │\n",
       "│ …          ┆ …          ┆ …          ┆ …          ┆ … ┆ …          ┆ …          ┆ …          ┆ …          │\n",
       "│ 0.012285   ┆ 0.000345   ┆ 0.000924   ┆ 0.000043   ┆ … ┆ -4.078025  ┆ -3.936988  ┆ 0.113151   ┆ 197        │\n",
       "│ 0.018018   ┆ 0.001944   ┆ 0.000951   ┆ 0.000021   ┆ … ┆ -4.077212  ┆ -3.9371    ┆ 0.112204   ┆ 198        │\n",
       "│ 0.018719   ┆ 0.000317   ┆ 0.001012   ┆ 0.00012    ┆ … ┆ -4.077512  ┆ -3.938562  ┆ 0.112042   ┆ 199        │\n",
       "│ 0.022289   ┆ 0.002541   ┆ 0.003887   ┆ 0.005759   ┆ … ┆ -4.077302  ┆ -3.938595  ┆ 0.111808   ┆ 200        │\n",
       "└────────────┴────────────┴────────────┴────────────┴───┴────────────┴────────────┴────────────┴────────────┘"
      ]
     },
     "execution_count": 146,
     "metadata": {},
     "output_type": "execute_result"
    }
   ],
   "source": [
    "pl.DataFrame(opt.cv_results_).sort('rank_test_score')"
   ]
  },
  {
   "cell_type": "code",
   "execution_count": 147,
   "id": "522f2c4e",
   "metadata": {},
   "outputs": [
    {
     "data": {
      "text/plain": [
       "-0.718926558715587"
      ]
     },
     "execution_count": 147,
     "metadata": {},
     "output_type": "execute_result"
    }
   ],
   "source": [
    "opt.score(X_val,y_val)"
   ]
  },
  {
   "cell_type": "code",
   "execution_count": 148,
   "id": "8bf78507",
   "metadata": {},
   "outputs": [
    {
     "data": {
      "text/plain": [
       "0.5554223351169976"
      ]
     },
     "execution_count": 148,
     "metadata": {},
     "output_type": "execute_result"
    }
   ],
   "source": [
    "np.corrcoef(opt.predict(X_val), y_val).min()"
   ]
  },
  {
   "cell_type": "code",
   "execution_count": 149,
   "id": "05868854",
   "metadata": {},
   "outputs": [
    {
     "data": {
      "text/plain": [
       "0.718926558715587"
      ]
     },
     "execution_count": 149,
     "metadata": {},
     "output_type": "execute_result"
    }
   ],
   "source": [
    "math.sqrt(sklearn.metrics.mean_squared_error(y_val, opt.predict(X_val)))"
   ]
  },
  {
   "cell_type": "code",
   "execution_count": 179,
   "id": "6f76d739",
   "metadata": {},
   "outputs": [
    {
     "data": {
      "text/plain": [
       "0.25017011573112047"
      ]
     },
     "execution_count": 179,
     "metadata": {},
     "output_type": "execute_result"
    }
   ],
   "source": [
    "sklearn.metrics.r2_score(y_val, opt.predict(X_val))"
   ]
  },
  {
   "cell_type": "code",
   "execution_count": 181,
   "id": "9197968f",
   "metadata": {},
   "outputs": [
    {
     "data": {
      "text/plain": [
       "(0.6997270042350988, 0.1796536693179907, 0.7384592609936014)"
      ]
     },
     "execution_count": 181,
     "metadata": {},
     "output_type": "execute_result"
    }
   ],
   "source": [
    "from sklearn.model_selection import cross_val_score\n",
    "\n",
    "test = xgb.XGBRegressor(n_jobs=-1, **opt.best_params_)\n",
    "test.fit(feats, labels)\n",
    "(\n",
    "    -cross_val_score(test, feats, labels, scoring='neg_root_mean_squared_error').mean(),\n",
    "    cross_val_score(test, feats, labels, scoring='r2').mean(),\n",
    "    np.corrcoef(test.predict(feats), labels).min()\n",
    ")\n"
   ]
  },
  {
   "cell_type": "code",
   "execution_count": 182,
   "id": "77f2b1d5",
   "metadata": {},
   "outputs": [
    {
     "data": {
      "text/plain": [
       "{'objective': 'reg:squarederror',\n",
       " 'base_score': None,\n",
       " 'booster': None,\n",
       " 'callbacks': None,\n",
       " 'colsample_bylevel': None,\n",
       " 'colsample_bynode': None,\n",
       " 'colsample_bytree': None,\n",
       " 'early_stopping_rounds': None,\n",
       " 'enable_categorical': False,\n",
       " 'eval_metric': None,\n",
       " 'feature_types': None,\n",
       " 'gamma': None,\n",
       " 'gpu_id': None,\n",
       " 'grow_policy': None,\n",
       " 'importance_type': None,\n",
       " 'interaction_constraints': None,\n",
       " 'learning_rate': None,\n",
       " 'max_bin': None,\n",
       " 'max_cat_threshold': None,\n",
       " 'max_cat_to_onehot': None,\n",
       " 'max_delta_step': None,\n",
       " 'max_depth': 1,\n",
       " 'max_leaves': 20,\n",
       " 'min_child_weight': None,\n",
       " 'missing': nan,\n",
       " 'monotone_constraints': None,\n",
       " 'n_estimators': 35,\n",
       " 'n_jobs': -1,\n",
       " 'num_parallel_tree': None,\n",
       " 'predictor': None,\n",
       " 'random_state': None,\n",
       " 'reg_alpha': None,\n",
       " 'reg_lambda': None,\n",
       " 'sampling_method': None,\n",
       " 'scale_pos_weight': None,\n",
       " 'subsample': 1.0,\n",
       " 'tree_method': None,\n",
       " 'validate_parameters': None,\n",
       " 'verbosity': None}"
      ]
     },
     "execution_count": 182,
     "metadata": {},
     "output_type": "execute_result"
    }
   ],
   "source": [
    "test.get_params()"
   ]
  },
  {
   "cell_type": "code",
   "execution_count": 184,
   "id": "38530aec",
   "metadata": {},
   "outputs": [
    {
     "data": {
      "text/html": [
       "<div><style>\n",
       ".dataframe > thead > tr > th,\n",
       ".dataframe > tbody > tr > td {\n",
       "  text-align: right;\n",
       "}\n",
       "</style>\n",
       "<small>shape: (1, 2)</small><table border=\"1\" class=\"dataframe\"><thead><tr><th>a</th><th>b</th></tr><tr><td>str</td><td>i64</td></tr></thead><tbody><tr><td>&quot;hello&quot;</td><td>2</td></tr></tbody></table></div>"
      ],
      "text/plain": [
       "shape: (1, 2)\n",
       "┌───────┬─────┐\n",
       "│ a     ┆ b   │\n",
       "│ ---   ┆ --- │\n",
       "│ str   ┆ i64 │\n",
       "╞═══════╪═════╡\n",
       "│ hello ┆ 2   │\n",
       "└───────┴─────┘"
      ]
     },
     "execution_count": 184,
     "metadata": {},
     "output_type": "execute_result"
    }
   ],
   "source": [
    "pl.DataFrame({\"a\": 'hello', \"b\": 2})"
   ]
  },
  {
   "cell_type": "code",
   "execution_count": null,
   "id": "f2134fd7",
   "metadata": {},
   "outputs": [],
   "source": []
  }
 ],
 "metadata": {
  "kernelspec": {
   "display_name": "Python 3 (ipykernel)",
   "language": "python",
   "name": "python3"
  },
  "language_info": {
   "codemirror_mode": {
    "name": "ipython",
    "version": 3
   },
   "file_extension": ".py",
   "mimetype": "text/x-python",
   "name": "python",
   "nbconvert_exporter": "python",
   "pygments_lexer": "ipython3",
   "version": "3.10.9"
  }
 },
 "nbformat": 4,
 "nbformat_minor": 5
}
