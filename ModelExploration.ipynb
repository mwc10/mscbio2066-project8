{
 "cells": [
  {
   "cell_type": "code",
   "execution_count": 105,
   "id": "b8dfd1e1",
   "metadata": {},
   "outputs": [],
   "source": [
    "import polars as pl\n",
    "import numpy as np\n",
    "import numpy.typing as npt\n",
    "import xgboost as xgb\n",
    "from rdkit.Chem import AllChem\n",
    "from Bio import Align\n",
    "\n",
    "import json\n",
    "from typing import List\n",
    "import heapq"
   ]
  },
  {
   "cell_type": "code",
   "execution_count": 182,
   "id": "2badfbc4",
   "metadata": {},
   "outputs": [],
   "source": [
    "class Model:\n",
    "    def __init__(self, ids, models, config, seqs, n_jobs=-1):\n",
    "        def load_model(p, n_jobs):\n",
    "            r = xgb.XGBRegressor()\n",
    "            r.load_model(p)\n",
    "            r.set_params(n_jobs=n_jobs)\n",
    "            return r\n",
    "        \n",
    "        # uniprot to model\n",
    "        self.knownModels = {i: load_model(m, n_jobs) for i, m in zip(ids, models)}\n",
    "        # uniprot to List<similar models>\n",
    "        self.similarModels = dict()\n",
    "        self.aligner = Align.PairwiseAligner(scoring='blastp')\n",
    "        \n",
    "        with open(seqs, 'r') as f:\n",
    "            self.knownSeqs = dict(map(lambda l: l.strip().split('\\t'), f))\n",
    "                \n",
    "        with open(config, 'r') as f:\n",
    "            self.config = json.load(f)\n",
    "        \n",
    "    def predict(self, smiles, uniprot) -> float:\n",
    "        fp = self.fingerprint(smiles).reshape(1, -1)\n",
    "        \n",
    "        if uniprot in self.knownModels:\n",
    "            return self.knownModels[uniprot].predict(fp)\n",
    "        else:\n",
    "            seq = self.fetch_seq(uniprot)\n",
    "            models = self.get_similar(seq)\n",
    "            self.similarModels[uniprot] = models\n",
    "            # get 3? nearest models and average prediction\n",
    "            return np.mean([m.predict(fp) for m in models])\n",
    "            \n",
    "        \n",
    "    def fingerprint(self, smiles: str) -> npt.NDArray:\n",
    "        mol = AllChem.MolFromSmiles(smiles)\n",
    "        c = self.config['fingerprints']\n",
    "        fp = AllChem.GetMorganFingerprintAsBitVect(\n",
    "            mol, \n",
    "            radius=c['radius'],\n",
    "            nBits=c['bitSize'],\n",
    "            useFeatures=c['useFeatures'],\n",
    "            useChirality=c['useChirality'],\n",
    "        )\n",
    "        \n",
    "        return np.array(fp, dtype=np.uint8)\n",
    "    \n",
    "    def fetch_seq(self, uid: str) -> str:\n",
    "        url = 'https://rest.uniprot.org/uniprotkb/stream'\n",
    "        params = {\n",
    "            'query': f'(accession:{uid})',\n",
    "            'fields': 'accession,sequence',\n",
    "            'format':'tsv',\n",
    "        }\n",
    "        res = requests.get(url, params=params)\n",
    "        # return dict(map(lambda s: s.split('\\t'), res.text.splitlines()[1:]))\n",
    "        return res.text.splitlines()[1].split('\\t')[1]\n",
    "        \n",
    "    \n",
    "    def get_similar(self, target: str, k=3) -> List[xgb.XGBRegressor]:\n",
    "        zip_seq_model = ((self.knownSeqs[uid], model) for uid, model in self.knownModels.items())\n",
    "        map_score = lambda query, model: (self.aligner.score(target, query), model)\n",
    "        it = map(lambda t: map_score(*t), zip_seq_model)\n",
    "        \n",
    "        return [res[1] for res in heapq.nlargest(k, it, key=lambda x: x[0])]\n",
    "        "
   ]
  },
  {
   "cell_type": "code",
   "execution_count": 25,
   "id": "4f4ba658",
   "metadata": {},
   "outputs": [
    {
     "data": {
      "text/plain": [
       "<bound method XGBModel.predict of XGBRegressor(base_score=None, booster=None, callbacks=None,\n",
       "             colsample_bylevel=None, colsample_bynode=None,\n",
       "             colsample_bytree=None, early_stopping_rounds=None,\n",
       "             enable_categorical=False, eval_metric=None, feature_types=None,\n",
       "             gamma=None, gpu_id=None, grow_policy=None, importance_type=None,\n",
       "             interaction_constraints=None, learning_rate=None, max_bin=None,\n",
       "             max_cat_threshold=None, max_cat_to_onehot=None,\n",
       "             max_delta_step=None, max_depth=2, max_leaves=14,\n",
       "             min_child_weight=None, missing=nan, monotone_constraints=None,\n",
       "             n_estimators=33, n_jobs=-1, num_parallel_tree=None, predictor=None,\n",
       "             random_state=None, ...)>"
      ]
     },
     "execution_count": 25,
     "metadata": {},
     "output_type": "execute_result"
    }
   ],
   "source": [
    "r = xgb.XGBRegressor()\n",
    "r.load_model('test/models/00004.ubj')\n",
    "r.set_params(n_jobs=-1)\n",
    "r.predict"
   ]
  },
  {
   "cell_type": "code",
   "execution_count": 86,
   "id": "dedb8d4a",
   "metadata": {},
   "outputs": [
    {
     "data": {
      "text/plain": [
       "'Entry\\tSequence\\nP13368\\tMTMFWQQNVDHQSDEQDKQAKGAAPTKRLNISFNVKIAVNVNTKMTTTHINQQAPGTSSSSSNSQNASPSKIVVRQQSSSFDLRQQLARLGRQLASGQDGHGGISTILIINLLLLILLSICCDVCRSHNYTVHQSPEPVSKDQMRLLRPKLDSDVVEKVAIWHKHAAAAPPSIVEGIAISSRPQSTMAHHPDDRDRDRDPSEEQHGVDERMVLERVTRDCVQRCIVEEDLFLDEFGIQCEKADNGEKCYKTRCTKGCAQWYRALKELESCQEACLSLQFYPYDMPCIGACEMAQRDYWHLQRLAISHLVERTQPQLERAPRADGQSTPLTIRWAMHFPEHYLASRPFNIQYQFVDHHGEELDLEQEDQDASGETGSSAWFNLADYDCDEYYVCEILEALIPYTQYRFRFELPFGENRDEVLYSPATPAYQTPPEGAPISAPVIEHLMGLDDSHLAVHWHPGRFTNGPIEGYRLRLSSSEGNATSEQLVPAGRGSYIFSQLQAGTNYTLALSMINKQGEGPVAKGFVQTHSARNEKPAKDLTESVLLVGRRAVMWQSLEPAGENSMIYQSQEELADIAWSKREQQLWLLNVHGELRSLKFESGQMVSPAQQLKLDLGNISSGRWVPRRLSFDWLHHRLYFAMESPERNQSSFQIISTDLLGESAQKVGESFDLPVEQLEVDALNGWIFWRNEESLWRQDLHGRMIHRLLRIRQPGWFLVQPQHFIIHLMLPQEGKFLEISYDGGFKHPLPLPPPSNGAGNGPASSHWQSFALLGRSLLLPDSGQLILVEQQGQAASPSASWPLKNLPDCWAVILLVPESQPLTSAGGKPHSLKALLGAQAAKISWKEPERNPYQSADAARSWSYELEVLDVASQSAFSIRNIRGPIFGLQRLQPDNLYQLRVRAINVDGEPGEWTEPLAARTWPLGPHRLRWASRQGSVIHTNELGEGLEVQQEQLERLPGPMTMVNESVGYYVTGDGLLHCINLVHSQWGCPISEPLQHVGSVTYDWRGGRVYWTDLARNCVVRMDPWSGSRELLPVFEANFLALDPRQGHLYYATSSQLSRHGSTPDEAVTYYRVNGLEGSIASFVLDTQQDQLFWLVKGSGALRLYRAPLTAGGDSLQMIQQIKGVFQAVPDSLQLLRPLGALLWLERSGRRARLVRLAAPLDVMELPTPDQASPASALQLLDPQPLPPRDEGVIPMTVLPDSVRLDDGHWDDFHVRWQPSTSGGNHSVSYRLLLEFGQRLQTLDLSTPFARLTQLPQAQLQLKISITPRTAWRSGDTTRVQLTTPPVAPSQPRRLRVFVERLATALQEANVSAVLRWDAPEQGQEAPMQALEYHISCWVGSELHEELRLNQSALEARVEHLQPDQTYHFQVEARVAATGAAAGAASHALHVAPEVQAVPRVLYANAEFIGELDLDTRNRRRLVHTASPVEHLVGIEGEQRLLWVNEHVELLTHVPGSAPAKLARMRAEVLALAVDWIQRIVYWAELDATAPQAAIIYRLDLCNFEGKILQGERVWSTPRGRLLKDLVALPQAQSLIWLEYEQGSPRNGSLRGRNLTDGSELEWATVQPLIRLHAGSLEPGSETLNLVDNQGKLCVYDVARQLCTASALRAQLNLLGEDSIAGQLAQDSGYLYAVKNWSIRAYGRRRQQLEYTVELEPEEVRLLQAHNYQAYPPKNCLLLPSSGGSLLKATDCEEQRCLLNLPMITASEDCPLPIPGVRYQLNLTLARGPGSEEHDHGVEPLGQWLLGAGESLNLTDLLPFTRYRVSGILSSFYQKKLALPTLVLAPLELLTASATPSPPRNFSVRVLSPRELEVSWLPPEQLRSESVYYTLHWQQELDGENVQDRREWEAHERRLETAGTHRLTGIKPGSGYSLWVQAHATPTKSNSSERLHVRSFAELPELQLLELGPYSLSLTWAGTPDPLGSLQLECRSSAEQLRRNVAGNHTKMVVEPLQPRTRYQCRLLLGYAATPGAPLYHGTAEVYETLGDAPSQPGKPQLEHIAEEVFRVTWTAARGNGAPIALYNLEALQARSDIRRRRRRRRRNSGGSLEQLPWAEEPVVVEDQWLDFCNTTELSCIVKSLHSSRLLLFRVRARSLEHGWGPYSEESERVAEPFVSPEKRGSLVLAIIAPAAIVSSCVLALVLVRKVQKRRLRAKKLLQQSRPSIWSNLSTLQTQQQLMAVRNRAFSTTLSDADIALLPQINWSQLKLLRFLGSGAFGEVYEGQLKTEDSEEPQRVAIKSLRKGASEFAELLQEAQLMSNFKHENIVCLVGICFDTESISLIMEHMEAGDLLSYLRAARATSTQEPQPTAGLSLSELLAMCIDVANGCSYLEDMHFVHRDLACRNCLVTESTGSTDRRRTVKIGDFGLARDIYKSDYYRKEGEGLLPVRWMSPESLVDGLFTTQSDVWAFGVLCWEILTLGQQPYAARNNFEVLAHVKEGGRLQQPPMCTEKLYSLLLLCWRTDPWERPSFRRCYNTLHAISTDLRRTQMASATADTVVSCSRPEFKVRFDGQPLEEHREHNERPEDENLTLREVPLKDKQLYANEGVSRL\\nP20806\\tMFWREDAAQQQQQQQQQQQQQQQQQQPPHPPKRLSFSFNVKIAVNVNTKMSTTHINQERSKQQTTTGSRSRSRSNSNSSVSCKGDGDRRVRRHTTRLVGLRQQLLHLGRQLNPGQFLVTGHGGISTILIANLLLLLLLSLCCNVCCRSHIEPDQNLTPTTTSPAAVAVVPMLLPLAQTHMRPQLDSDVVEKVAVWTKHVGAAPPSIAEGIAISSVVRMPPSIQTPTETVRRQEQQRQQQQQQQEAAAAAAADAAIDERIVLERVTRDCVQRCIVEEDLFLDEFGIKCEKADNSDKCYKTRCNKGCAQWYRALKEIEPCQEACASTQFYPYDMPCIGACETAQRDYWHMQRLAMARLVETTQPQLLEMTDESSTLTIKWAMQFPENYLASRPFNIQYQQVDNQSEPEWHNLADYDCDEYYVCEILEALVPYTRYKFRFELPFGESSEDVLYSPATPVYETPMEGAPISAPIIVALLALDEHHVFVHWRPGRYSNAPIEGYRVLLTSAGNTSREQLLPAQRTSCIFAQLQPLTNYTVALTMINKQGEGPSTVVSIVTKSPLEPQQLQSVLLASEHSIIWQSLEPAGETRLLYTSEPAAISDFTFSQREQRLWLLDELGQLHSQLLDETTTSAARRLRLELPSNGSSQWTPRKLSLDWLQRRLYIAAQANSSDGAEGGFELFSSNLEGGDVQMAGVQLGLVVEQLELDALNGWLFWCDADSLWRLDLSSKQQLRLTQPAGAPGRFMLEPQRWLLHVLLPQENQLLELSYDGGHKHALALSNDSWRGFAWSSDQAQLLLANETQLQLLDGQTLVPLANWSPDGGCCALLPLERRRQPLSLEPPAPRELRALLGAQGAHITWQPPAANPYQTATAAARNFSYELEVLDVASQSAYNIRNIRVPHFGLERLQADNLYQLRVRANNAAGRAGVWTAPLATRTWPLGDHRLRWATQRGSLYTTNELGGQLQPLPVQLASSPGPLALVNASVAYYVSGREQSLHCVNLLQPQLSCTDERLEHVGAVAYDWRGGLLYWTDLARDCVQRLDPFSGERELLPIFGARHLALDSAQGHLYYSSSAHLARRSLSALSTHQPELEYYHVNGLAGQISGFCLDLPQRHIYWLVAGNSALHLYRTALSAGGSQAAVPLQLLTTLPAADALPHTLQHLAPLGALLWLAADGRGAHLLRLAAQLETDTDTMRLLPEGLVEPLSAVQLLERSAGPPPPPPDEGVRPLAVPPDSVHIDEGGHWNDFRVRWQPAASGGNHSVCYKLLLEHGSERLITLELLTPFARITQLAQAPLGLRISITPHTAWRAGSTTRVQLDTPVAAPTQPRRLRVFVERQAAPLQLAPNVSALLRWDVPEEHAGSQSLQYRISCWRGSELHSELLLNQSTLEARVEHLQPEETYRFQVQAHVAATGLAAGATSHALHVSPEVQSVPRLLYANAEHIGELDLDTGHRKQLVHTASPVEHLVVLQGEQRLLWVNEHVELLSHVPGKAPAKLARMRAEVLALTVDWVQRIVYWAELDAADGGCVIYSLDLCRFDGRILQGERLWSTPRGQLLRDLVALPHARQLVWLQHDLDSRNATLQGRSLANGSALTFEGVTLPLWRLFEGSQEPLAETLNLVDHLGRLCVYHVARQLCTSSALRAQLNLLNDDIGQLAQDPGYLYALRNGSVRAYGRRRQQLEFLLELQPDEVRLLRAYNYQAYPSRRCLLLPTTAAALESTPSSCEETQCSLQLPALSAAPDCPLPVPGLNYQLNLSSSSRSAQLELRSLHSAAGLTLNISQLQPYQAYELRAQVGSYYQQQLGQEPLQLPVLTLHTAAATPSAPRNFSGRALSPSELELSWLAPLELRSASVYYTLHWQLQLEDTEEQSQEQPAQEQRVETAGVQRLTGLQPARLYQVWLQAHATPSKYNSSGRLLIRSYAPLPPLQLIELNAYGMTLAWPGTPDALSSLTLECQSLREQLQFNVAGNHTQMRLAPLQPKTRYSCRLALAYAATPGAPIYFGPSHEYETLGDAPSAPGRPQLEHIAGEIFRVSWTPALDNGSPILLYNLEALQARRTNRRRRRRRETTLSLLPWAEEPLVIEDQWLDFCNTTELSCIVRELHTRRLLLFRVRARNRPHGWGPYSEDSERIAEPFVSPEKRGSLVLAIIAPAAIVSSCVLALVLVRKLQKRRHRAKKLLQQSRPSIWSNLSALQTQQQLLAARSRTFSMSLSDADIALLPQINWNRLTLLRFLGSGAFGEVYEGQLQAEDEAQPQRVAIKSLRKGASEFAELLQEAQLMSNFKHENIVCLIGICCDTDSISLIMEHMEAGDLLSYLRAARPSSQEALSKLQLPELLSMCLDVANGCSYMEDMHFVHRDLACRNCLVSDGAAIGGRRIVKIGDFGLARDIYKSDYYRKEGEGLLPVRWMALESLVDGLFSTQSDVWAFGVLCWEIFTLGQQPYAARNNFEVLAHVKEGGRLQQPERCPEKLYALLLQCWRSEPWERPSFKRCLSTLQALSSDLRRTEMLATDETPLVSALCAFKPDAKVRFDDAPQRLTLHLDAKDTVSTTDADTTGSPTTPTAPTTPTTTTSTIAVVSTAPSSENGQLYANEGISGL\\n'"
      ]
     },
     "execution_count": 86,
     "metadata": {},
     "output_type": "execute_result"
    }
   ],
   "source": [
    "import urllib\n",
    "import requests\n",
    "\n",
    "url = 'https://rest.uniprot.org/uniprotkb/stream'\n",
    "params = {\n",
    "    'query': '(accession:P13368) OR (accession:P20806)',\n",
    "    'fields': 'accession,sequence',\n",
    "    'format':'tsv',\n",
    "#     'query':'P13368 P20806 Q9UM73 P97793 Q17192',\n",
    "#     'columns': 'id,sequence'\n",
    "}\n",
    "\n",
    "res = requests.get(url, params=params)\n",
    "# data = urllib.parse.urlencode(params)\n",
    "# data = data.encode('ascii')\n",
    "# request = urllib.request.Request(url, data)\n",
    "# with urllib.request.urlopen(request) as res:\n",
    "#     print(res)\n",
    "#     res = res.read()\n",
    "# data\n",
    "res.text"
   ]
  },
  {
   "cell_type": "code",
   "execution_count": 87,
   "id": "7e044289",
   "metadata": {},
   "outputs": [],
   "source": [
    "new_seqs = dict(map(lambda s: s.split('\\t'), res.text.splitlines()[1:]))"
   ]
  },
  {
   "cell_type": "code",
   "execution_count": 95,
   "id": "26026fb0",
   "metadata": {},
   "outputs": [],
   "source": [
    "aligner = Align.PairwiseAligner(scoring='blastp')"
   ]
  },
  {
   "cell_type": "code",
   "execution_count": 103,
   "id": "b9379aad",
   "metadata": {},
   "outputs": [
    {
     "data": {
      "text/plain": [
       "7767.0"
      ]
     },
     "execution_count": 103,
     "metadata": {},
     "output_type": "execute_result"
    }
   ],
   "source": [
    "target, query = list(new_seqs.values())\n",
    "aligner.score(target, query)"
   ]
  },
  {
   "cell_type": "code",
   "execution_count": 94,
   "id": "474f1585",
   "metadata": {},
   "outputs": [
    {
     "data": {
      "text/plain": [
       "'MTMFWQQNVDHQSDEQDKQAKGAAPTKRLNISFNVKIAVNVNTKMTTTHINQQAPGTSSSSSNSQNASPSKIVVRQQSSSFDLRQQLARLGRQLASGQDGHGGISTILIINLLLLILLSICCDVCRSHNYTVHQSPEPVSKDQMRLLRPKLDSDVVEKVAIWHKHAAAAPPSIVEGIAISSRPQSTMAHHPDDRDRDRDPSEEQHGVDERMVLERVTRDCVQRCIVEEDLFLDEFGIQCEKADNGEKCYKTRCTKGCAQWYRALKELESCQEACLSLQFYPYDMPCIGACEMAQRDYWHLQRLAISHLVERTQPQLERAPRADGQSTPLTIRWAMHFPEHYLASRPFNIQYQFVDHHGEELDLEQEDQDASGETGSSAWFNLADYDCDEYYVCEILEALIPYTQYRFRFELPFGENRDEVLYSPATPAYQTPPEGAPISAPVIEHLMGLDDSHLAVHWHPGRFTNGPIEGYRLRLSSSEGNATSEQLVPAGRGSYIFSQLQAGTNYTLALSMINKQGEGPVAKGFVQTHSARNEKPAKDLTESVLLVGRRAVMWQSLEPAGENSMIYQSQEELADIAWSKREQQLWLLNVHGELRSLKFESGQMVSPAQQLKLDLGNISSGRWVPRRLSFDWLHHRLYFAMESPERNQSSFQIISTDLLGESAQKVGESFDLPVEQLEVDALNGWIFWRNEESLWRQDLHGRMIHRLLRIRQPGWFLVQPQHFIIHLMLPQEGKFLEISYDGGFKHPLPLPPPSNGAGNGPASSHWQSFALLGRSLLLPDSGQLILVEQQGQAASPSASWPLKNLPDCWAVILLVPESQPLTSAGGKPHSLKALLGAQAAKISWKEPERNPYQSADAARSWSYELEVLDVASQSAFSIRNIRGPIFGLQRLQPDNLYQLRVRAINVDGEPGEWTEPLAARTWPLGPHRLRWASRQGSVIHTNELGEGLEVQQEQLERLPGPMTMVNESVGYYVTGDGLLHCINLVHSQWGCPISEPLQHVGSVTYDWRGGRVYWTDLARNCVVRMDPWSGSRELLPVFEANFLALDPRQGHLYYATSSQLSRHGSTPDEAVTYYRVNGLEGSIASFVLDTQQDQLFWLVKGSGALRLYRAPLTAGGDSLQMIQQIKGVFQAVPDSLQLLRPLGALLWLERSGRRARLVRLAAPLDVMELPTPDQASPASALQLLDPQPLPPRDEGVIPMTVLPDSVRLDDGHWDDFHVRWQPSTSGGNHSVSYRLLLEFGQRLQTLDLSTPFARLTQLPQAQLQLKISITPRTAWRSGDTTRVQLTTPPVAPSQPRRLRVFVERLATALQEANVSAVLRWDAPEQGQEAPMQALEYHISCWVGSELHEELRLNQSALEARVEHLQPDQTYHFQVEARVAATGAAAGAASHALHVAPEVQAVPRVLYANAEFIGELDLDTRNRRRLVHTASPVEHLVGIEGEQRLLWVNEHVELLTHVPGSAPAKLARMRAEVLALAVDWIQRIVYWAELDATAPQAAIIYRLDLCNFEGKILQGERVWSTPRGRLLKDLVALPQAQSLIWLEYEQGSPRNGSLRGRNLTDGSELEWATVQPLIRLHAGSLEPGSETLNLVDNQGKLCVYDVARQLCTASALRAQLNLLGEDSIAGQLAQDSGYLYAVKNWSIRAYGRRRQQLEYTVELEPEEVRLLQAHNYQAYPPKNCLLLPSSGGSLLKATDCEEQRCLLNLPMITASEDCPLPIPGVRYQLNLTLARGPGSEEHDHGVEPLGQWLLGAGESLNLTDLLPFTRYRVSGILSSFYQKKLALPTLVLAPLELLTASATPSPPRNFSVRVLSPRELEVSWLPPEQLRSESVYYTLHWQQELDGENVQDRREWEAHERRLETAGTHRLTGIKPGSGYSLWVQAHATPTKSNSSERLHVRSFAELPELQLLELGPYSLSLTWAGTPDPLGSLQLECRSSAEQLRRNVAGNHTKMVVEPLQPRTRYQCRLLLGYAATPGAPLYHGTAEVYETLGDAPSQPGKPQLEHIAEEVFRVTWTAARGNGAPIALYNLEALQARSDIRRRRRRRRRNSGGSLEQLPWAEEPVVVEDQWLDFCNTTELSCIVKSLHSSRLLLFRVRARSLEHGWGPYSEESERVAEPFVSPEKRGSLVLAIIAPAAIVSSCVLALVLVRKVQKRRLRAKKLLQQSRPSIWSNLSTLQTQQQLMAVRNRAFSTTLSDADIALLPQINWSQLKLLRFLGSGAFGEVYEGQLKTEDSEEPQRVAIKSLRKGASEFAELLQEAQLMSNFKHENIVCLVGICFDTESISLIMEHMEAGDLLSYLRAARATSTQEPQPTAGLSLSELLAMCIDVANGCSYLEDMHFVHRDLACRNCLVTESTGSTDRRRTVKIGDFGLARDIYKSDYYRKEGEGLLPVRWMSPESLVDGLFTTQSDVWAFGVLCWEILTLGQQPYAARNNFEVLAHVKEGGRLQQPPMCTEKLYSLLLLCWRTDPWERPSFRRCYNTLHAISTDLRRTQMASATADTVVSCSRPEFKVRFDGQPLEEHREHNERPEDENLTLREVPLKDKQLYANEGVSRL'"
      ]
     },
     "execution_count": 94,
     "metadata": {},
     "output_type": "execute_result"
    }
   ],
   "source": [
    "target"
   ]
  },
  {
   "cell_type": "code",
   "execution_count": 112,
   "id": "aa4e419a",
   "metadata": {},
   "outputs": [
    {
     "data": {
      "text/plain": [
       "(shape: (5,)\n",
       " Series: 'uniprot' [str]\n",
       " [\n",
       " \t\"Q9HBH9\"\n",
       " \t\"Q06418\"\n",
       " \t\"Q9C098\"\n",
       " \t\"Q9P1W9\"\n",
       " \t\"Q05655\"\n",
       " ],\n",
       " shape: (5,)\n",
       " Series: 'output_model' [str]\n",
       " [\n",
       " \t\"test/models/00…\n",
       " \t\"test/models/00…\n",
       " \t\"test/models/00…\n",
       " \t\"test/models/00…\n",
       " \t\"test/models/00…\n",
       " ])"
      ]
     },
     "execution_count": 112,
     "metadata": {},
     "output_type": "execute_result"
    }
   ],
   "source": [
    "dfModels = pl.scan_csv('test/metrics/*.csv').collect()\n",
    "\n",
    "dfModels['uniprot'], dfModels['output_model']"
   ]
  },
  {
   "cell_type": "code",
   "execution_count": 183,
   "id": "e37a072b",
   "metadata": {},
   "outputs": [],
   "source": [
    "m = Model(dfModels['uniprot'], dfModels['output_model'], 'configs/hu-b2048-r2-kikd.json', 'data/map-uniprot-seq.tsv')"
   ]
  },
  {
   "cell_type": "code",
   "execution_count": 184,
   "id": "4bc5ea24",
   "metadata": {},
   "outputs": [],
   "source": [
    "# target = m.fetch_seq('Q2M2I8')\n",
    "# m.fingerprint('CS(=O)(=O)Nc1cccc(c1)-c1ccc2c(NC(=O)C3CC3)n[nH]c2c1')\n",
    "# zip_seq_model = ((m.knownSeqs[uid], model) for uid, model in m.knownModels.items())\n",
    "# map_score = lambda query, model: (m.aligner.score(target, query), model)"
   ]
  },
  {
   "cell_type": "code",
   "execution_count": 185,
   "id": "a9c14d51",
   "metadata": {},
   "outputs": [
    {
     "data": {
      "text/plain": [
       "5.902614"
      ]
     },
     "execution_count": 185,
     "metadata": {},
     "output_type": "execute_result"
    }
   ],
   "source": [
    "m.predict('CS(=O)(=O)Nc1cccc(c1)-c1ccc2c(NC(=O)C3CC3)n[nH]c2c1', 'Q2M2I8')"
   ]
  },
  {
   "cell_type": "code",
   "execution_count": 160,
   "id": "3a2f1c84",
   "metadata": {},
   "outputs": [
    {
     "data": {
      "text/plain": [
       "[(-388.0,\n",
       "  XGBRegressor(base_score=None, booster=None, callbacks=None,\n",
       "               colsample_bylevel=None, colsample_bynode=None,\n",
       "               colsample_bytree=None, early_stopping_rounds=None,\n",
       "               enable_categorical=False, eval_metric=None, feature_types=None,\n",
       "               gamma=None, gpu_id=None, grow_policy=None, importance_type=None,\n",
       "               interaction_constraints=None, learning_rate=None, max_bin=None,\n",
       "               max_cat_threshold=None, max_cat_to_onehot=None,\n",
       "               max_delta_step=None, max_depth=2, max_leaves=14,\n",
       "               min_child_weight=None, missing=nan, monotone_constraints=None,\n",
       "               n_estimators=33, n_jobs=-1, num_parallel_tree=None, predictor=None,\n",
       "               random_state=None, ...)),\n",
       " (-221.0,\n",
       "  XGBRegressor(base_score=None, booster=None, callbacks=None,\n",
       "               colsample_bylevel=None, colsample_bynode=None,\n",
       "               colsample_bytree=None, early_stopping_rounds=None,\n",
       "               enable_categorical=False, eval_metric=None, feature_types=None,\n",
       "               gamma=None, gpu_id=None, grow_policy=None, importance_type=None,\n",
       "               interaction_constraints=None, learning_rate=None, max_bin=None,\n",
       "               max_cat_threshold=None, max_cat_to_onehot=None,\n",
       "               max_delta_step=None, max_depth=2, max_leaves=18,\n",
       "               min_child_weight=None, missing=nan, monotone_constraints=None,\n",
       "               n_estimators=31, n_jobs=-1, num_parallel_tree=None, predictor=None,\n",
       "               random_state=None, ...)),\n",
       " (-297.0,\n",
       "  XGBRegressor(base_score=None, booster=None, callbacks=None,\n",
       "               colsample_bylevel=None, colsample_bynode=None,\n",
       "               colsample_bytree=None, early_stopping_rounds=None,\n",
       "               enable_categorical=False, eval_metric=None, feature_types=None,\n",
       "               gamma=None, gpu_id=None, grow_policy=None, importance_type=None,\n",
       "               interaction_constraints=None, learning_rate=None, max_bin=None,\n",
       "               max_cat_threshold=None, max_cat_to_onehot=None,\n",
       "               max_delta_step=None, max_depth=9, max_leaves=13,\n",
       "               min_child_weight=None, missing=nan, monotone_constraints=None,\n",
       "               n_estimators=500, n_jobs=-1, num_parallel_tree=None,\n",
       "               predictor=None, random_state=None, ...)),\n",
       " (-510.0,\n",
       "  XGBRegressor(base_score=None, booster=None, callbacks=None,\n",
       "               colsample_bylevel=None, colsample_bynode=None,\n",
       "               colsample_bytree=None, early_stopping_rounds=None,\n",
       "               enable_categorical=False, eval_metric=None, feature_types=None,\n",
       "               gamma=None, gpu_id=None, grow_policy=None, importance_type=None,\n",
       "               interaction_constraints=None, learning_rate=None, max_bin=None,\n",
       "               max_cat_threshold=None, max_cat_to_onehot=None,\n",
       "               max_delta_step=None, max_depth=4, max_leaves=10,\n",
       "               min_child_weight=None, missing=nan, monotone_constraints=None,\n",
       "               n_estimators=401, n_jobs=-1, num_parallel_tree=None,\n",
       "               predictor=None, random_state=None, ...)),\n",
       " (-353.0,\n",
       "  XGBRegressor(base_score=None, booster=None, callbacks=None,\n",
       "               colsample_bylevel=None, colsample_bynode=None,\n",
       "               colsample_bytree=None, early_stopping_rounds=None,\n",
       "               enable_categorical=False, eval_metric=None, feature_types=None,\n",
       "               gamma=None, gpu_id=None, grow_policy=None, importance_type=None,\n",
       "               interaction_constraints=None, learning_rate=None, max_bin=None,\n",
       "               max_cat_threshold=None, max_cat_to_onehot=None,\n",
       "               max_delta_step=None, max_depth=8, max_leaves=15,\n",
       "               min_child_weight=None, missing=nan, monotone_constraints=None,\n",
       "               n_estimators=244, n_jobs=-1, num_parallel_tree=None,\n",
       "               predictor=None, random_state=None, ...))]"
      ]
     },
     "execution_count": 160,
     "metadata": {},
     "output_type": "execute_result"
    }
   ],
   "source": [
    "list(map(lambda t: map_score(*t), zip_seq_model))"
   ]
  },
  {
   "cell_type": "code",
   "execution_count": 186,
   "id": "ab03e729",
   "metadata": {},
   "outputs": [],
   "source": [
    "import pickle\n",
    "\n",
    "with open('test.pkl', 'wb') as f:\n",
    "    pickle.dump(m, f)"
   ]
  },
  {
   "cell_type": "code",
   "execution_count": null,
   "id": "7898cae1",
   "metadata": {},
   "outputs": [],
   "source": []
  }
 ],
 "metadata": {
  "kernelspec": {
   "display_name": "Python 3 (ipykernel)",
   "language": "python",
   "name": "python3"
  },
  "language_info": {
   "codemirror_mode": {
    "name": "ipython",
    "version": 3
   },
   "file_extension": ".py",
   "mimetype": "text/x-python",
   "name": "python",
   "nbconvert_exporter": "python",
   "pygments_lexer": "ipython3",
   "version": "3.10.9"
  }
 },
 "nbformat": 4,
 "nbformat_minor": 5
}
